{
 "cells": [
  {
   "cell_type": "markdown",
   "metadata": {
    "id": "GNIwe5N7s0e_"
   },
   "source": [
    "# Real-world Data Wrangling"
   ]
  },
  {
   "cell_type": "markdown",
   "metadata": {
    "id": "_BG63Tpg8ep_"
   },
   "source": [
    "In this project, you will apply the skills you acquired in the course to gather and wrangle real-world data with two datasets of your choice.\n",
    "\n",
    "You will retrieve and extract the data, assess the data programmatically and visually, accross elements of data quality and structure, and implement a cleaning strategy for the data. You will then store the updated data into your selected database/data store, combine the data, and answer a research question with the datasets.\n",
    "\n",
    "Throughout the process, you are expected to:\n",
    "\n",
    "1. Explain your decisions towards methods used for gathering, assessing, cleaning, storing, and answering the research question\n",
    "2. Write code comments so your code is more readable"
   ]
  },
  {
   "cell_type": "markdown",
   "metadata": {
    "id": "lDYDkH-Zs7Nn"
   },
   "source": [
    "## 1. Gather data\n",
    "\n",
    "In this section, you will extract data using two different data gathering methods and combine the data. Use at least two different types of data-gathering methods."
   ]
  },
  {
   "cell_type": "markdown",
   "metadata": {
    "id": "LbN7z7rcuqpO"
   },
   "source": [
    "### **1.1.** Problem Statement"
   ]
  },
  {
   "cell_type": "markdown",
   "metadata": {
    "id": "gi6swhjSYqu2"
   },
   "source": [
    "Questions: \n",
    "- Among the top 1000 movies, what percenetage of movies are horror movies?\n",
    "- Whats the gross revenue of horror movies versus years? Growth rate?\n",
    "- What are the factors that would affect the gross revenue of horror movies?"
   ]
  },
  {
   "cell_type": "markdown",
   "metadata": {
    "id": "8AQfBAdUypMm"
   },
   "source": [
    "### **1.2.** Gather at least two datasets using two different data gathering methods\n",
    "\n",
    "List of data gathering methods:\n",
    "\n",
    "- Download data manually\n",
    "- Programmatically downloading files\n",
    "- Gather data by accessing APIs\n",
    "- Gather and extract data from HTML files using BeautifulSoup\n",
    "- Extract data from a SQL database\n",
    "\n",
    "Each dataset must have at least two variables, and have greater than 500 data samples within each dataset.\n",
    "\n",
    "For each dataset, briefly describe why you picked the dataset and the gathering method (2-3 full sentences), including the names and significance of the variables in the dataset. Show your work (e.g., if using an API to download the data, please include a snippet of your code). \n",
    "\n",
    "Load the dataset programmtically into this notebook."
   ]
  },
  {
   "cell_type": "markdown",
   "metadata": {
    "id": "7e6gS0wL1KTu"
   },
   "source": [
    "#### Dataset 1: Top 1000 IMDb rated movie\n",
    "This dataset collects the top 1000 IMDb rated movie\n",
    "\n",
    "Type: CSV\n",
    "\n",
    "Method: Gather and extract data from HTML files using BeautifulSoup\n",
    "\n",
    "Dataset variables:\n",
    "\n",
    "*   __*name:*__ Name of the movie\n",
    "*   __*year:*__ Make Year of the movie\n",
    "*   __*category:*__ Genre of the movie\n",
    "*   __*rating:*__ Rating of the movie\n",
    "*   __*metascore:*__ Metascore of the movie\n",
    "*   __*votes:*__ Number of votes of the movie\n",
    "*   __*gross:*__ Gross revenue of the movie\n"
   ]
  },
  {
   "cell_type": "code",
   "execution_count": 1,
   "metadata": {
    "id": "Su8E0uLuYkHU"
   },
   "outputs": [],
   "source": [
    "import matplotlib.pyplot as plt\n",
    "import seaborn as sns\n",
    "import numpy as np\n",
    "%matplotlib inline\n",
    "\n",
    "import warnings\n",
    "warnings.filterwarnings('ignore')\n",
    "\n",
    "from bs4 import BeautifulSoup\n",
    "import pandas as pd\n",
    "import requests\n",
    "import time\n",
    "import re\n",
    "\n",
    "# IMDb \"Top 1000\" (Sorted by IMDb Rating Descending)\n",
    "# 250 titles per url\n",
    "urls = ['https://www.imdb.com/search/title/?groups=top_1000&sort=user_rating,desc&count=250&start=1&ref_=adv_nxt',\n",
    "       'https://www.imdb.com/search/title/?groups=top_1000&sort=user_rating,desc&count=250&start=251&ref_=adv_nxt',\n",
    "       'https://www.imdb.com/search/title/?groups=top_1000&sort=user_rating,desc&count=250&start=501&ref_=adv_nxt',\n",
    "       'https://www.imdb.com/search/title/?groups=top_1000&sort=user_rating,desc&count=250&start=751&ref_=adv_nxt']\n",
    "\n"
   ]
  },
  {
   "cell_type": "code",
   "execution_count": 2,
   "metadata": {},
   "outputs": [],
   "source": [
    "movie_name=[]\n",
    "year_of_release=[]\n",
    "category=[]\n",
    "rating=[]\n",
    "metascore=[]\n",
    "votes=[]\n",
    "gross=[]"
   ]
  },
  {
   "cell_type": "code",
   "execution_count": 3,
   "metadata": {},
   "outputs": [],
   "source": [
    "for url in urls:\n",
    "    response = requests.get(url)\n",
    "    soup = BeautifulSoup(response.content,'html.parser')\n",
    "    movie_data = soup.findAll('div',attrs={'class':'lister-item mode-advanced'})\n",
    "    \n",
    "    for i in movie_data:\n",
    "        name = i.h3.a.text\n",
    "        movie_name.append(name)\n",
    "        year = i.h3.find('span', class_='lister-item-year text-muted unbold').text.replace('(','').replace(')','')\n",
    "        year_of_release.append(year)\n",
    "        genre = i.p.find('span', class_='genre').text.replace('\\n','').replace('            ','')\n",
    "        category.append(genre)\n",
    "        rate = i.find('div', class_ = 'inline-block ratings-imdb-rating').text.replace('\\n','')\n",
    "        rating.append(rate)\n",
    "        mscore = i.find('span', class_ = 'metascore').text.replace('        ','') if i.find('span', class_ = 'metascore') else np.nan\n",
    "        metascore.append(mscore)\n",
    "        value = i.find_all('span', attrs ={'name':'nv'})\n",
    "        votes.append(value[0].text)\n",
    "        grosses=value[1].text if len(value)>1 else np.nan\n",
    "        gross.append(grosses)\n"
   ]
  },
  {
   "cell_type": "code",
   "execution_count": 4,
   "metadata": {},
   "outputs": [],
   "source": [
    "    df_top_1000 = pd.DataFrame({'name':movie_name,\n",
    "                         'year':year_of_release,\n",
    "                         'category': category,\n",
    "                         'rating':rating,\n",
    "                         'metascore':metascore,\n",
    "                         'votes':votes,\n",
    "                         'gross':gross\n",
    "                        })"
   ]
  },
  {
   "cell_type": "code",
   "execution_count": 5,
   "metadata": {},
   "outputs": [
    {
     "data": {
      "text/plain": [
       "(1000, 7)"
      ]
     },
     "execution_count": 5,
     "metadata": {},
     "output_type": "execute_result"
    }
   ],
   "source": [
    "df_top_1000.shape"
   ]
  },
  {
   "cell_type": "markdown",
   "metadata": {
    "id": "hoUjq1tPzz7P"
   },
   "source": [
    "#### Dataset 2 - Horror Movie Dataset\n",
    "This dataset collects horrow movies info from 1920 to 2023.\n",
    "\n",
    "Type: CSV file\n",
    "\n",
    "Method: Download manually from Kaggle <br>(https://www.kaggle.com/datasets/shreyanshverma27/imdb-horror-chilling-movie-dataset)\n",
    "\n",
    "Dataset variables:\n",
    "\n",
    "*   __*Movie Title:*__ Name of the movie\n",
    "*   __*Movie Year:*__ Make Year of the movie\n",
    "*   __*Runtime:*__ Length of the movie\n",
    "*   __*Genre:*__ Genre of the movie\n",
    "*   __*Rating:*__ Rating of the movie\n",
    "*   __*Director:*__ Name of the director\n",
    "*   __*Votes:*__ Number of votes of the movie\n",
    "*   __*Gross:*__ Gross revenue of the movie"
   ]
  },
  {
   "cell_type": "code",
   "execution_count": 6,
   "metadata": {
    "id": "6zT0QxRyYmm7"
   },
   "outputs": [],
   "source": [
    "#FILL IN 2nd data gathering and loading method\n",
    "df2_horror_movies = pd.read_csv('Horror Movies IMDb.csv')"
   ]
  },
  {
   "cell_type": "code",
   "execution_count": 7,
   "metadata": {
    "scrolled": true
   },
   "outputs": [
    {
     "data": {
      "text/html": [
       "<div>\n",
       "<style scoped>\n",
       "    .dataframe tbody tr th:only-of-type {\n",
       "        vertical-align: middle;\n",
       "    }\n",
       "\n",
       "    .dataframe tbody tr th {\n",
       "        vertical-align: top;\n",
       "    }\n",
       "\n",
       "    .dataframe thead th {\n",
       "        text-align: right;\n",
       "    }\n",
       "</style>\n",
       "<table border=\"1\" class=\"dataframe\">\n",
       "  <thead>\n",
       "    <tr style=\"text-align: right;\">\n",
       "      <th></th>\n",
       "      <th>Movie Title</th>\n",
       "      <th>Movie Year</th>\n",
       "      <th>Runtime</th>\n",
       "      <th>Genre</th>\n",
       "      <th>Rating</th>\n",
       "      <th>Director</th>\n",
       "      <th>Votes</th>\n",
       "      <th>Gross</th>\n",
       "    </tr>\n",
       "  </thead>\n",
       "  <tbody>\n",
       "    <tr>\n",
       "      <th>544</th>\n",
       "      <td>Victor Frankenstein</td>\n",
       "      <td>2015</td>\n",
       "      <td>110</td>\n",
       "      <td>Drama, Horror, Sci-Fi</td>\n",
       "      <td>5.9</td>\n",
       "      <td>Paul McGuigan</td>\n",
       "      <td>58,423</td>\n",
       "      <td>$5.78M</td>\n",
       "    </tr>\n",
       "    <tr>\n",
       "      <th>14</th>\n",
       "      <td>King Kong</td>\n",
       "      <td>1933</td>\n",
       "      <td>100</td>\n",
       "      <td>Adventure, Horror, Sci-Fi</td>\n",
       "      <td>7.9</td>\n",
       "      <td>Merian C. Cooper</td>\n",
       "      <td>88,019</td>\n",
       "      <td>$10.00M</td>\n",
       "    </tr>\n",
       "    <tr>\n",
       "      <th>703</th>\n",
       "      <td>The Stepford Wives</td>\n",
       "      <td>2004</td>\n",
       "      <td>93</td>\n",
       "      <td>Comedy, Horror, Sci-Fi</td>\n",
       "      <td>5.3</td>\n",
       "      <td>Frank Oz</td>\n",
       "      <td>68,040</td>\n",
       "      <td>$59.48M</td>\n",
       "    </tr>\n",
       "    <tr>\n",
       "      <th>151</th>\n",
       "      <td>Constantine</td>\n",
       "      <td>2005</td>\n",
       "      <td>121</td>\n",
       "      <td>Action, Fantasy, Horror</td>\n",
       "      <td>7.0</td>\n",
       "      <td>Francis Lawrence</td>\n",
       "      <td>3,59,071</td>\n",
       "      <td>$75.98M</td>\n",
       "    </tr>\n",
       "    <tr>\n",
       "      <th>51</th>\n",
       "      <td>Grindhouse</td>\n",
       "      <td>2007</td>\n",
       "      <td>191</td>\n",
       "      <td>Action, Horror, Thriller</td>\n",
       "      <td>7.5</td>\n",
       "      <td>Robert Rodriguez</td>\n",
       "      <td>1,87,623</td>\n",
       "      <td>$25.04M</td>\n",
       "    </tr>\n",
       "    <tr>\n",
       "      <th>767</th>\n",
       "      <td>Silent Hill: Revelation</td>\n",
       "      <td>2012</td>\n",
       "      <td>95</td>\n",
       "      <td>Horror, Mystery, Thriller</td>\n",
       "      <td>4.9</td>\n",
       "      <td>M.J. Bassett</td>\n",
       "      <td>65,270</td>\n",
       "      <td>$17.53M</td>\n",
       "    </tr>\n",
       "    <tr>\n",
       "      <th>566</th>\n",
       "      <td>Pride and Prejudice and Zombies</td>\n",
       "      <td>2016</td>\n",
       "      <td>108</td>\n",
       "      <td>Action, Comedy, Fantasy</td>\n",
       "      <td>5.8</td>\n",
       "      <td>Burr Steers</td>\n",
       "      <td>58,473</td>\n",
       "      <td>$10.91M</td>\n",
       "    </tr>\n",
       "    <tr>\n",
       "      <th>17</th>\n",
       "      <td>I Saw the Devil</td>\n",
       "      <td>2010</td>\n",
       "      <td>144</td>\n",
       "      <td>Action, Crime, Horror</td>\n",
       "      <td>7.8</td>\n",
       "      <td>Jee-woon Kim</td>\n",
       "      <td>1,37,559</td>\n",
       "      <td>$0.13M</td>\n",
       "    </tr>\n",
       "    <tr>\n",
       "      <th>749</th>\n",
       "      <td>The Haunting</td>\n",
       "      <td>1999</td>\n",
       "      <td>113</td>\n",
       "      <td>Fantasy, Horror, Mystery</td>\n",
       "      <td>5.0</td>\n",
       "      <td>Jan de Bont</td>\n",
       "      <td>78,402</td>\n",
       "      <td>$91.41M</td>\n",
       "    </tr>\n",
       "    <tr>\n",
       "      <th>173</th>\n",
       "      <td>Ravenous</td>\n",
       "      <td>1999</td>\n",
       "      <td>101</td>\n",
       "      <td>Adventure, Drama, Horror</td>\n",
       "      <td>6.9</td>\n",
       "      <td>Antonia Bird</td>\n",
       "      <td>41,616</td>\n",
       "      <td>$2.06M</td>\n",
       "    </tr>\n",
       "  </tbody>\n",
       "</table>\n",
       "</div>"
      ],
      "text/plain": [
       "                         Movie Title  Movie Year  Runtime  \\\n",
       "544              Victor Frankenstein        2015      110   \n",
       "14                         King Kong        1933      100   \n",
       "703               The Stepford Wives        2004       93   \n",
       "151                      Constantine        2005      121   \n",
       "51                        Grindhouse        2007      191   \n",
       "767          Silent Hill: Revelation        2012       95   \n",
       "566  Pride and Prejudice and Zombies        2016      108   \n",
       "17                   I Saw the Devil        2010      144   \n",
       "749                     The Haunting        1999      113   \n",
       "173                         Ravenous        1999      101   \n",
       "\n",
       "                         Genre  Rating          Director     Votes    Gross  \n",
       "544      Drama, Horror, Sci-Fi     5.9     Paul McGuigan    58,423   $5.78M  \n",
       "14   Adventure, Horror, Sci-Fi     7.9  Merian C. Cooper    88,019  $10.00M  \n",
       "703     Comedy, Horror, Sci-Fi     5.3          Frank Oz    68,040  $59.48M  \n",
       "151    Action, Fantasy, Horror     7.0  Francis Lawrence  3,59,071  $75.98M  \n",
       "51    Action, Horror, Thriller     7.5  Robert Rodriguez  1,87,623  $25.04M  \n",
       "767  Horror, Mystery, Thriller     4.9      M.J. Bassett    65,270  $17.53M  \n",
       "566    Action, Comedy, Fantasy     5.8       Burr Steers    58,473  $10.91M  \n",
       "17       Action, Crime, Horror     7.8      Jee-woon Kim  1,37,559   $0.13M  \n",
       "749   Fantasy, Horror, Mystery     5.0       Jan de Bont    78,402  $91.41M  \n",
       "173   Adventure, Drama, Horror     6.9      Antonia Bird    41,616   $2.06M  "
      ]
     },
     "execution_count": 7,
     "metadata": {},
     "output_type": "execute_result"
    }
   ],
   "source": [
    "df2_horror_movies.sample(10)"
   ]
  },
  {
   "cell_type": "code",
   "execution_count": 8,
   "metadata": {},
   "outputs": [
    {
     "data": {
      "text/plain": [
       "(836, 8)"
      ]
     },
     "execution_count": 8,
     "metadata": {},
     "output_type": "execute_result"
    }
   ],
   "source": [
    "df2_horror_movies.shape"
   ]
  },
  {
   "cell_type": "markdown",
   "metadata": {},
   "source": [
    "Optional data storing step: You may save your raw dataset files to the local data store before moving to the next step."
   ]
  },
  {
   "cell_type": "code",
   "execution_count": 9,
   "metadata": {},
   "outputs": [],
   "source": [
    "#Optional: store the raw data in your local data store"
   ]
  },
  {
   "cell_type": "markdown",
   "metadata": {
    "id": "QwSWIVmotLgV"
   },
   "source": [
    "## 2. Assess data\n",
    "\n",
    "Assess the data according to data quality and tidiness metrics using the report below.\n",
    "\n",
    "List **two** data quality issues and **two** tidiness issues. Assess each data issue visually **and** programmatically, then briefly describe the issue you find.  **Make sure you include justifications for the methods you use for the assessment.**"
   ]
  },
  {
   "cell_type": "markdown",
   "metadata": {
    "id": "adaK2iPNzVu4"
   },
   "source": [
    "### Quality Issue on Dataset 1"
   ]
  },
  {
   "cell_type": "markdown",
   "metadata": {},
   "source": [
    "#### Inspecting the dataframe visually"
   ]
  },
  {
   "cell_type": "code",
   "execution_count": 10,
   "metadata": {
    "id": "SpW59kh-zl8d",
    "scrolled": false
   },
   "outputs": [
    {
     "data": {
      "text/html": [
       "<div>\n",
       "<style scoped>\n",
       "    .dataframe tbody tr th:only-of-type {\n",
       "        vertical-align: middle;\n",
       "    }\n",
       "\n",
       "    .dataframe tbody tr th {\n",
       "        vertical-align: top;\n",
       "    }\n",
       "\n",
       "    .dataframe thead th {\n",
       "        text-align: right;\n",
       "    }\n",
       "</style>\n",
       "<table border=\"1\" class=\"dataframe\">\n",
       "  <thead>\n",
       "    <tr style=\"text-align: right;\">\n",
       "      <th></th>\n",
       "      <th>name</th>\n",
       "      <th>year</th>\n",
       "      <th>category</th>\n",
       "      <th>rating</th>\n",
       "      <th>metascore</th>\n",
       "      <th>votes</th>\n",
       "      <th>gross</th>\n",
       "    </tr>\n",
       "  </thead>\n",
       "  <tbody>\n",
       "    <tr>\n",
       "      <th>760</th>\n",
       "      <td>Coraline</td>\n",
       "      <td>2009</td>\n",
       "      <td>Animation, Drama, Family</td>\n",
       "      <td>7.7</td>\n",
       "      <td>80</td>\n",
       "      <td>253,660</td>\n",
       "      <td>$75.29M</td>\n",
       "    </tr>\n",
       "    <tr>\n",
       "      <th>742</th>\n",
       "      <td>The Discreet Charm of the Bourgeoisie</td>\n",
       "      <td>1972</td>\n",
       "      <td>Comedy</td>\n",
       "      <td>7.8</td>\n",
       "      <td>93</td>\n",
       "      <td>45,556</td>\n",
       "      <td>$0.20M</td>\n",
       "    </tr>\n",
       "    <tr>\n",
       "      <th>424</th>\n",
       "      <td>Who's Afraid of Virginia Woolf?</td>\n",
       "      <td>1966</td>\n",
       "      <td>Drama</td>\n",
       "      <td>8.0</td>\n",
       "      <td>75</td>\n",
       "      <td>78,574</td>\n",
       "      <td>NaN</td>\n",
       "    </tr>\n",
       "    <tr>\n",
       "      <th>858</th>\n",
       "      <td>Black Book</td>\n",
       "      <td>2006</td>\n",
       "      <td>Drama, Thriller, War</td>\n",
       "      <td>7.7</td>\n",
       "      <td>71</td>\n",
       "      <td>79,346</td>\n",
       "      <td>$4.40M</td>\n",
       "    </tr>\n",
       "    <tr>\n",
       "      <th>195</th>\n",
       "      <td>Vikram Vedha</td>\n",
       "      <td>2017</td>\n",
       "      <td>Action, Crime, Drama</td>\n",
       "      <td>8.2</td>\n",
       "      <td>NaN</td>\n",
       "      <td>49,130</td>\n",
       "      <td>NaN</td>\n",
       "    </tr>\n",
       "    <tr>\n",
       "      <th>1</th>\n",
       "      <td>The Godfather</td>\n",
       "      <td>1972</td>\n",
       "      <td>Crime, Drama</td>\n",
       "      <td>9.2</td>\n",
       "      <td>100</td>\n",
       "      <td>1,958,323</td>\n",
       "      <td>$134.97M</td>\n",
       "    </tr>\n",
       "    <tr>\n",
       "      <th>143</th>\n",
       "      <td>Jurassic Park</td>\n",
       "      <td>1993</td>\n",
       "      <td>Action, Adventure, Sci-Fi</td>\n",
       "      <td>8.2</td>\n",
       "      <td>68</td>\n",
       "      <td>1,038,368</td>\n",
       "      <td>$402.45M</td>\n",
       "    </tr>\n",
       "    <tr>\n",
       "      <th>985</th>\n",
       "      <td>The Last King of Scotland</td>\n",
       "      <td>2006</td>\n",
       "      <td>Biography, Drama, History</td>\n",
       "      <td>7.6</td>\n",
       "      <td>74</td>\n",
       "      <td>193,181</td>\n",
       "      <td>$17.61M</td>\n",
       "    </tr>\n",
       "    <tr>\n",
       "      <th>806</th>\n",
       "      <td>X: First Class</td>\n",
       "      <td>2011</td>\n",
       "      <td>Action, Sci-Fi</td>\n",
       "      <td>7.7</td>\n",
       "      <td>65</td>\n",
       "      <td>712,742</td>\n",
       "      <td>$146.41M</td>\n",
       "    </tr>\n",
       "    <tr>\n",
       "      <th>829</th>\n",
       "      <td>Fried Green Tomatoes</td>\n",
       "      <td>1991</td>\n",
       "      <td>Drama</td>\n",
       "      <td>7.7</td>\n",
       "      <td>64</td>\n",
       "      <td>79,789</td>\n",
       "      <td>$82.42M</td>\n",
       "    </tr>\n",
       "  </tbody>\n",
       "</table>\n",
       "</div>"
      ],
      "text/plain": [
       "                                      name  year                   category  \\\n",
       "760                               Coraline  2009   Animation, Drama, Family   \n",
       "742  The Discreet Charm of the Bourgeoisie  1972                     Comedy   \n",
       "424        Who's Afraid of Virginia Woolf?  1966                      Drama   \n",
       "858                             Black Book  2006       Drama, Thriller, War   \n",
       "195                           Vikram Vedha  2017       Action, Crime, Drama   \n",
       "1                            The Godfather  1972               Crime, Drama   \n",
       "143                          Jurassic Park  1993  Action, Adventure, Sci-Fi   \n",
       "985              The Last King of Scotland  2006  Biography, Drama, History   \n",
       "806                         X: First Class  2011             Action, Sci-Fi   \n",
       "829                   Fried Green Tomatoes  1991                      Drama   \n",
       "\n",
       "    rating metascore      votes     gross  \n",
       "760    7.7        80    253,660   $75.29M  \n",
       "742    7.8        93     45,556    $0.20M  \n",
       "424    8.0        75     78,574       NaN  \n",
       "858    7.7        71     79,346    $4.40M  \n",
       "195    8.2       NaN     49,130       NaN  \n",
       "1      9.2       100  1,958,323  $134.97M  \n",
       "143    8.2        68  1,038,368  $402.45M  \n",
       "985    7.6        74    193,181   $17.61M  \n",
       "806    7.7        65    712,742  $146.41M  \n",
       "829    7.7        64     79,789   $82.42M  "
      ]
     },
     "execution_count": 10,
     "metadata": {},
     "output_type": "execute_result"
    }
   ],
   "source": [
    "#FILL IN - Inspecting the dataframe visually\n",
    "df_top_1000.sample(10)"
   ]
  },
  {
   "cell_type": "markdown",
   "metadata": {},
   "source": [
    "- Missing values exist (**Completeness** issue)"
   ]
  },
  {
   "cell_type": "markdown",
   "metadata": {},
   "source": [
    "#### Inspecting the dataframe programmatically"
   ]
  },
  {
   "cell_type": "code",
   "execution_count": 11,
   "metadata": {
    "scrolled": true
   },
   "outputs": [
    {
     "name": "stdout",
     "output_type": "stream",
     "text": [
      "<class 'pandas.core.frame.DataFrame'>\n",
      "RangeIndex: 1000 entries, 0 to 999\n",
      "Data columns (total 7 columns):\n",
      " #   Column     Non-Null Count  Dtype \n",
      "---  ------     --------------  ----- \n",
      " 0   name       1000 non-null   object\n",
      " 1   year       1000 non-null   object\n",
      " 2   category   1000 non-null   object\n",
      " 3   rating     1000 non-null   object\n",
      " 4   metascore  845 non-null    object\n",
      " 5   votes      1000 non-null   object\n",
      " 6   gross      834 non-null    object\n",
      "dtypes: object(7)\n",
      "memory usage: 54.8+ KB\n"
     ]
    }
   ],
   "source": [
    "df_top_1000.info()"
   ]
  },
  {
   "cell_type": "markdown",
   "metadata": {},
   "source": [
    "- year, rating, metascore, volts, and gross should be numerical (**Validity** issue)"
   ]
  },
  {
   "cell_type": "code",
   "execution_count": 12,
   "metadata": {},
   "outputs": [
    {
     "data": {
      "text/plain": [
       "0"
      ]
     },
     "execution_count": 12,
     "metadata": {},
     "output_type": "execute_result"
    }
   ],
   "source": [
    "df_top_1000.duplicated().sum()"
   ]
  },
  {
   "cell_type": "markdown",
   "metadata": {},
   "source": [
    "- No **Uniquenes** issue"
   ]
  },
  {
   "cell_type": "markdown",
   "metadata": {
    "id": "adaK2iPNzVu4"
   },
   "source": [
    "### Quality Issue on Dataset 2"
   ]
  },
  {
   "cell_type": "markdown",
   "metadata": {},
   "source": [
    "#### Inspecting the dataframe visually"
   ]
  },
  {
   "cell_type": "code",
   "execution_count": 13,
   "metadata": {},
   "outputs": [
    {
     "data": {
      "text/html": [
       "<div>\n",
       "<style scoped>\n",
       "    .dataframe tbody tr th:only-of-type {\n",
       "        vertical-align: middle;\n",
       "    }\n",
       "\n",
       "    .dataframe tbody tr th {\n",
       "        vertical-align: top;\n",
       "    }\n",
       "\n",
       "    .dataframe thead th {\n",
       "        text-align: right;\n",
       "    }\n",
       "</style>\n",
       "<table border=\"1\" class=\"dataframe\">\n",
       "  <thead>\n",
       "    <tr style=\"text-align: right;\">\n",
       "      <th></th>\n",
       "      <th>Movie Title</th>\n",
       "      <th>Movie Year</th>\n",
       "      <th>Runtime</th>\n",
       "      <th>Genre</th>\n",
       "      <th>Rating</th>\n",
       "      <th>Director</th>\n",
       "      <th>Votes</th>\n",
       "      <th>Gross</th>\n",
       "    </tr>\n",
       "  </thead>\n",
       "  <tbody>\n",
       "    <tr>\n",
       "      <th>141</th>\n",
       "      <td>Pearl</td>\n",
       "      <td>2022</td>\n",
       "      <td>103</td>\n",
       "      <td>Drama, Horror, Thriller</td>\n",
       "      <td>7.0</td>\n",
       "      <td>Ti West</td>\n",
       "      <td>60,574</td>\n",
       "      <td>NaN</td>\n",
       "    </tr>\n",
       "    <tr>\n",
       "      <th>747</th>\n",
       "      <td>47 Meters Down: Uncaged</td>\n",
       "      <td>2019</td>\n",
       "      <td>90</td>\n",
       "      <td>Adventure, Drama, Horror</td>\n",
       "      <td>5.0</td>\n",
       "      <td>Johannes Roberts</td>\n",
       "      <td>28,859</td>\n",
       "      <td>$22.26M</td>\n",
       "    </tr>\n",
       "    <tr>\n",
       "      <th>402</th>\n",
       "      <td>Underworld: Awakening</td>\n",
       "      <td>2012</td>\n",
       "      <td>88</td>\n",
       "      <td>Action, Fantasy, Horror</td>\n",
       "      <td>6.3</td>\n",
       "      <td>Måns Mårlind</td>\n",
       "      <td>1,57,941</td>\n",
       "      <td>$62.32M</td>\n",
       "    </tr>\n",
       "    <tr>\n",
       "      <th>682</th>\n",
       "      <td>A Nightmare on Elm Street 2: Freddy's Revenge</td>\n",
       "      <td>1985</td>\n",
       "      <td>87</td>\n",
       "      <td>Horror</td>\n",
       "      <td>5.4</td>\n",
       "      <td>Jack Sholder</td>\n",
       "      <td>73,312</td>\n",
       "      <td>$30.00M</td>\n",
       "    </tr>\n",
       "    <tr>\n",
       "      <th>201</th>\n",
       "      <td>Creepshow</td>\n",
       "      <td>1982</td>\n",
       "      <td>120</td>\n",
       "      <td>Comedy, Fantasy, Horror</td>\n",
       "      <td>6.8</td>\n",
       "      <td>George A. Romero</td>\n",
       "      <td>50,496</td>\n",
       "      <td>$21.03M</td>\n",
       "    </tr>\n",
       "    <tr>\n",
       "      <th>289</th>\n",
       "      <td>It Chapter Two</td>\n",
       "      <td>2019</td>\n",
       "      <td>169</td>\n",
       "      <td>Drama, Fantasy, Horror</td>\n",
       "      <td>6.5</td>\n",
       "      <td>Andy Muschietti</td>\n",
       "      <td>2,81,137</td>\n",
       "      <td>$211.59M</td>\n",
       "    </tr>\n",
       "    <tr>\n",
       "      <th>384</th>\n",
       "      <td>Devil</td>\n",
       "      <td>2010</td>\n",
       "      <td>80</td>\n",
       "      <td>Horror, Mystery, Thriller</td>\n",
       "      <td>6.3</td>\n",
       "      <td>John Erick Dowdle</td>\n",
       "      <td>1,51,728</td>\n",
       "      <td>$33.58M</td>\n",
       "    </tr>\n",
       "    <tr>\n",
       "      <th>151</th>\n",
       "      <td>Constantine</td>\n",
       "      <td>2005</td>\n",
       "      <td>121</td>\n",
       "      <td>Action, Fantasy, Horror</td>\n",
       "      <td>7.0</td>\n",
       "      <td>Francis Lawrence</td>\n",
       "      <td>3,59,071</td>\n",
       "      <td>$75.98M</td>\n",
       "    </tr>\n",
       "    <tr>\n",
       "      <th>610</th>\n",
       "      <td>The Last Exorcism</td>\n",
       "      <td>2010</td>\n",
       "      <td>87</td>\n",
       "      <td>Horror, Mystery, Thriller</td>\n",
       "      <td>5.7</td>\n",
       "      <td>Daniel Stamm</td>\n",
       "      <td>50,953</td>\n",
       "      <td>$41.03M</td>\n",
       "    </tr>\n",
       "    <tr>\n",
       "      <th>187</th>\n",
       "      <td>Insidious I</td>\n",
       "      <td>2010</td>\n",
       "      <td>103</td>\n",
       "      <td>Horror, Mystery, Thriller</td>\n",
       "      <td>6.8</td>\n",
       "      <td>James Wan</td>\n",
       "      <td>3,19,707</td>\n",
       "      <td>$54.01M</td>\n",
       "    </tr>\n",
       "  </tbody>\n",
       "</table>\n",
       "</div>"
      ],
      "text/plain": [
       "                                       Movie Title  Movie Year  Runtime  \\\n",
       "141                                          Pearl        2022      103   \n",
       "747                        47 Meters Down: Uncaged        2019       90   \n",
       "402                          Underworld: Awakening        2012       88   \n",
       "682  A Nightmare on Elm Street 2: Freddy's Revenge        1985       87   \n",
       "201                                      Creepshow        1982      120   \n",
       "289                                 It Chapter Two        2019      169   \n",
       "384                                          Devil        2010       80   \n",
       "151                                    Constantine        2005      121   \n",
       "610                              The Last Exorcism        2010       87   \n",
       "187                                    Insidious I        2010      103   \n",
       "\n",
       "                         Genre  Rating           Director     Votes     Gross  \n",
       "141    Drama, Horror, Thriller     7.0            Ti West    60,574       NaN  \n",
       "747   Adventure, Drama, Horror     5.0   Johannes Roberts    28,859   $22.26M  \n",
       "402    Action, Fantasy, Horror     6.3       Måns Mårlind  1,57,941   $62.32M  \n",
       "682                     Horror     5.4       Jack Sholder    73,312   $30.00M  \n",
       "201    Comedy, Fantasy, Horror     6.8   George A. Romero    50,496   $21.03M  \n",
       "289     Drama, Fantasy, Horror     6.5    Andy Muschietti  2,81,137  $211.59M  \n",
       "384  Horror, Mystery, Thriller     6.3  John Erick Dowdle  1,51,728   $33.58M  \n",
       "151    Action, Fantasy, Horror     7.0   Francis Lawrence  3,59,071   $75.98M  \n",
       "610  Horror, Mystery, Thriller     5.7       Daniel Stamm    50,953   $41.03M  \n",
       "187  Horror, Mystery, Thriller     6.8          James Wan  3,19,707   $54.01M  "
      ]
     },
     "execution_count": 13,
     "metadata": {},
     "output_type": "execute_result"
    }
   ],
   "source": [
    "df2_horror_movies.sample(10)"
   ]
  },
  {
   "cell_type": "markdown",
   "metadata": {},
   "source": [
    "- Missing values exist (**Completeness** issue)"
   ]
  },
  {
   "cell_type": "markdown",
   "metadata": {},
   "source": [
    "#### Inspecting the dataframe programmatically"
   ]
  },
  {
   "cell_type": "code",
   "execution_count": 14,
   "metadata": {},
   "outputs": [
    {
     "name": "stdout",
     "output_type": "stream",
     "text": [
      "<class 'pandas.core.frame.DataFrame'>\n",
      "RangeIndex: 836 entries, 0 to 835\n",
      "Data columns (total 8 columns):\n",
      " #   Column       Non-Null Count  Dtype  \n",
      "---  ------       --------------  -----  \n",
      " 0   Movie Title  836 non-null    object \n",
      " 1   Movie Year   836 non-null    int64  \n",
      " 2   Runtime      836 non-null    int64  \n",
      " 3   Genre        836 non-null    object \n",
      " 4   Rating       836 non-null    float64\n",
      " 5   Director     836 non-null    object \n",
      " 6   Votes        836 non-null    object \n",
      " 7   Gross        637 non-null    object \n",
      "dtypes: float64(1), int64(2), object(5)\n",
      "memory usage: 52.4+ KB\n"
     ]
    }
   ],
   "source": [
    "df2_horror_movies.info()"
   ]
  },
  {
   "cell_type": "markdown",
   "metadata": {},
   "source": [
    "- volts and gross should be numerical (**Validity** issue)"
   ]
  },
  {
   "cell_type": "code",
   "execution_count": 15,
   "metadata": {},
   "outputs": [
    {
     "data": {
      "text/plain": [
       "0"
      ]
     },
     "execution_count": 15,
     "metadata": {},
     "output_type": "execute_result"
    }
   ],
   "source": [
    "df2_horror_movies.duplicated().sum()"
   ]
  },
  {
   "cell_type": "markdown",
   "metadata": {},
   "source": [
    "- No **Uniquenes** issue"
   ]
  },
  {
   "cell_type": "markdown",
   "metadata": {
    "id": "lXhGiYyiwwKN"
   },
   "source": [
    "### Tidiness Issue on Dataset 1:"
   ]
  },
  {
   "cell_type": "code",
   "execution_count": 16,
   "metadata": {},
   "outputs": [
    {
     "data": {
      "text/html": [
       "<div>\n",
       "<style scoped>\n",
       "    .dataframe tbody tr th:only-of-type {\n",
       "        vertical-align: middle;\n",
       "    }\n",
       "\n",
       "    .dataframe tbody tr th {\n",
       "        vertical-align: top;\n",
       "    }\n",
       "\n",
       "    .dataframe thead th {\n",
       "        text-align: right;\n",
       "    }\n",
       "</style>\n",
       "<table border=\"1\" class=\"dataframe\">\n",
       "  <thead>\n",
       "    <tr style=\"text-align: right;\">\n",
       "      <th></th>\n",
       "      <th>name</th>\n",
       "      <th>year</th>\n",
       "      <th>category</th>\n",
       "      <th>rating</th>\n",
       "      <th>metascore</th>\n",
       "      <th>votes</th>\n",
       "      <th>gross</th>\n",
       "    </tr>\n",
       "  </thead>\n",
       "  <tbody>\n",
       "    <tr>\n",
       "      <th>0</th>\n",
       "      <td>The Shawshank Redemption</td>\n",
       "      <td>1994</td>\n",
       "      <td>Drama</td>\n",
       "      <td>9.3</td>\n",
       "      <td>82</td>\n",
       "      <td>2,810,128</td>\n",
       "      <td>$28.34M</td>\n",
       "    </tr>\n",
       "    <tr>\n",
       "      <th>1</th>\n",
       "      <td>The Godfather</td>\n",
       "      <td>1972</td>\n",
       "      <td>Crime, Drama</td>\n",
       "      <td>9.2</td>\n",
       "      <td>100</td>\n",
       "      <td>1,958,323</td>\n",
       "      <td>$134.97M</td>\n",
       "    </tr>\n",
       "    <tr>\n",
       "      <th>2</th>\n",
       "      <td>The Dark Knight</td>\n",
       "      <td>2008</td>\n",
       "      <td>Action, Crime, Drama</td>\n",
       "      <td>9.0</td>\n",
       "      <td>84</td>\n",
       "      <td>2,791,759</td>\n",
       "      <td>$534.86M</td>\n",
       "    </tr>\n",
       "    <tr>\n",
       "      <th>3</th>\n",
       "      <td>Schindler's List</td>\n",
       "      <td>1993</td>\n",
       "      <td>Biography, Drama, History</td>\n",
       "      <td>9.0</td>\n",
       "      <td>95</td>\n",
       "      <td>1,412,629</td>\n",
       "      <td>$96.90M</td>\n",
       "    </tr>\n",
       "    <tr>\n",
       "      <th>4</th>\n",
       "      <td>The Lord of the Rings: The Return of the King</td>\n",
       "      <td>2003</td>\n",
       "      <td>Action, Adventure, Drama</td>\n",
       "      <td>9.0</td>\n",
       "      <td>94</td>\n",
       "      <td>1,923,739</td>\n",
       "      <td>$377.85M</td>\n",
       "    </tr>\n",
       "  </tbody>\n",
       "</table>\n",
       "</div>"
      ],
      "text/plain": [
       "                                            name  year  \\\n",
       "0                       The Shawshank Redemption  1994   \n",
       "1                                  The Godfather  1972   \n",
       "2                                The Dark Knight  2008   \n",
       "3                               Schindler's List  1993   \n",
       "4  The Lord of the Rings: The Return of the King  2003   \n",
       "\n",
       "                    category rating metascore      votes     gross  \n",
       "0                      Drama    9.3        82  2,810,128   $28.34M  \n",
       "1               Crime, Drama    9.2       100  1,958,323  $134.97M  \n",
       "2       Action, Crime, Drama    9.0        84  2,791,759  $534.86M  \n",
       "3  Biography, Drama, History    9.0        95  1,412,629   $96.90M  \n",
       "4   Action, Adventure, Drama    9.0        94  1,923,739  $377.85M  "
      ]
     },
     "execution_count": 16,
     "metadata": {},
     "output_type": "execute_result"
    }
   ],
   "source": [
    "df_top_1000.head()"
   ]
  },
  {
   "cell_type": "markdown",
   "metadata": {},
   "source": [
    "- Category variable contains multiple values (**Data Structuring** issue)"
   ]
  },
  {
   "cell_type": "markdown",
   "metadata": {
    "id": "4ffMoRGSwzYj"
   },
   "source": [
    "### Tidiness Issue on Dataset 2: "
   ]
  },
  {
   "cell_type": "code",
   "execution_count": 17,
   "metadata": {
    "scrolled": true
   },
   "outputs": [
    {
     "data": {
      "text/html": [
       "<div>\n",
       "<style scoped>\n",
       "    .dataframe tbody tr th:only-of-type {\n",
       "        vertical-align: middle;\n",
       "    }\n",
       "\n",
       "    .dataframe tbody tr th {\n",
       "        vertical-align: top;\n",
       "    }\n",
       "\n",
       "    .dataframe thead th {\n",
       "        text-align: right;\n",
       "    }\n",
       "</style>\n",
       "<table border=\"1\" class=\"dataframe\">\n",
       "  <thead>\n",
       "    <tr style=\"text-align: right;\">\n",
       "      <th></th>\n",
       "      <th>Movie Title</th>\n",
       "      <th>Movie Year</th>\n",
       "      <th>Runtime</th>\n",
       "      <th>Genre</th>\n",
       "      <th>Rating</th>\n",
       "      <th>Director</th>\n",
       "      <th>Votes</th>\n",
       "      <th>Gross</th>\n",
       "    </tr>\n",
       "  </thead>\n",
       "  <tbody>\n",
       "    <tr>\n",
       "      <th>0</th>\n",
       "      <td>Alien</td>\n",
       "      <td>1979</td>\n",
       "      <td>117</td>\n",
       "      <td>Horror, Sci-Fi</td>\n",
       "      <td>8.5</td>\n",
       "      <td>Ridley Scott</td>\n",
       "      <td>9,05,275</td>\n",
       "      <td>$78.90M</td>\n",
       "    </tr>\n",
       "    <tr>\n",
       "      <th>1</th>\n",
       "      <td>Psycho</td>\n",
       "      <td>1960</td>\n",
       "      <td>109</td>\n",
       "      <td>Horror, Mystery, Thriller</td>\n",
       "      <td>8.5</td>\n",
       "      <td>Alfred Hitchcock</td>\n",
       "      <td>6,89,068</td>\n",
       "      <td>$32.00M</td>\n",
       "    </tr>\n",
       "    <tr>\n",
       "      <th>2</th>\n",
       "      <td>The Shining</td>\n",
       "      <td>1980</td>\n",
       "      <td>146</td>\n",
       "      <td>Drama, Horror</td>\n",
       "      <td>8.4</td>\n",
       "      <td>Stanley Kubrick</td>\n",
       "      <td>10,51,582</td>\n",
       "      <td>$44.02M</td>\n",
       "    </tr>\n",
       "    <tr>\n",
       "      <th>3</th>\n",
       "      <td>The Thing</td>\n",
       "      <td>1982</td>\n",
       "      <td>109</td>\n",
       "      <td>Horror, Mystery, Sci-Fi</td>\n",
       "      <td>8.2</td>\n",
       "      <td>John Carpenter</td>\n",
       "      <td>4,39,793</td>\n",
       "      <td>$13.78M</td>\n",
       "    </tr>\n",
       "    <tr>\n",
       "      <th>4</th>\n",
       "      <td>Tumbbad</td>\n",
       "      <td>2018</td>\n",
       "      <td>104</td>\n",
       "      <td>Drama, Fantasy, Horror</td>\n",
       "      <td>8.2</td>\n",
       "      <td>Rahi Anil Barve</td>\n",
       "      <td>53,297</td>\n",
       "      <td>NaN</td>\n",
       "    </tr>\n",
       "  </tbody>\n",
       "</table>\n",
       "</div>"
      ],
      "text/plain": [
       "   Movie Title  Movie Year  Runtime                      Genre  Rating  \\\n",
       "0        Alien        1979      117             Horror, Sci-Fi     8.5   \n",
       "1       Psycho        1960      109  Horror, Mystery, Thriller     8.5   \n",
       "2  The Shining        1980      146              Drama, Horror     8.4   \n",
       "3    The Thing        1982      109    Horror, Mystery, Sci-Fi     8.2   \n",
       "4      Tumbbad        2018      104     Drama, Fantasy, Horror     8.2   \n",
       "\n",
       "           Director      Votes    Gross  \n",
       "0      Ridley Scott   9,05,275  $78.90M  \n",
       "1  Alfred Hitchcock   6,89,068  $32.00M  \n",
       "2   Stanley Kubrick  10,51,582  $44.02M  \n",
       "3    John Carpenter   4,39,793  $13.78M  \n",
       "4   Rahi Anil Barve     53,297      NaN  "
      ]
     },
     "execution_count": 17,
     "metadata": {},
     "output_type": "execute_result"
    }
   ],
   "source": [
    "df2_horror_movies.head()"
   ]
  },
  {
   "cell_type": "markdown",
   "metadata": {},
   "source": [
    "- Genre variable contains multiple values (**Data Structuring** issue)"
   ]
  },
  {
   "cell_type": "markdown",
   "metadata": {
    "id": "D6gmLnBttpCh"
   },
   "source": [
    "## 3. Clean data\n",
    "Clean the data to solve the 4 issues corresponding to data quality and tidiness found in the assessing step. **Make sure you include justifications for your cleaning decisions.**\n",
    "\n",
    "After the cleaning for each issue, please use **either** the visually or programatical method to validate the cleaning was succesful.\n",
    "\n",
    "At this stage, you are also expected to remove variables that are unnecessary for your analysis and combine your datasets. Depending on your datasets, you may choose to perform variable combination and elimination before or after the cleaning stage. Your dataset must have **at least** 4 variables after combining the data."
   ]
  },
  {
   "cell_type": "code",
   "execution_count": 18,
   "metadata": {},
   "outputs": [],
   "source": [
    "# FILL IN - Make copies of the datasets to ensure the raw dataframes \n",
    "# are not impacted\n",
    "\n",
    "df1 = df_top_1000.copy()\n",
    "df2 = df2_horror_movies.copy()"
   ]
  },
  {
   "cell_type": "markdown",
   "metadata": {
    "id": "FmFhN52Yyn3l"
   },
   "source": [
    "### **Quality Issue 1: FILL IN**"
   ]
  },
  {
   "cell_type": "markdown",
   "metadata": {},
   "source": [
    "#### Fixing Validity issue\n",
    "**years:**\n",
    "- Some of the year has I,II in the front\n",
    "- numbers are the last four characters"
   ]
  },
  {
   "cell_type": "code",
   "execution_count": 19,
   "metadata": {
    "scrolled": true
   },
   "outputs": [],
   "source": [
    "df1['year'] = df1['year'].apply(lambda x: x[-4:])\n",
    "df1['year'] = df1['year'].astype(int)"
   ]
  },
  {
   "cell_type": "markdown",
   "metadata": {},
   "source": [
    "**rating:**"
   ]
  },
  {
   "cell_type": "code",
   "execution_count": 20,
   "metadata": {},
   "outputs": [],
   "source": [
    "df1.rating = df1.rating.astype(float)"
   ]
  },
  {
   "cell_type": "markdown",
   "metadata": {},
   "source": [
    "**votes:**"
   ]
  },
  {
   "cell_type": "code",
   "execution_count": 21,
   "metadata": {},
   "outputs": [],
   "source": [
    "df1.votes = df1.votes.apply(lambda x: x.replace(',',''))\n",
    "df1.votes = df1.votes.astype(int)"
   ]
  },
  {
   "cell_type": "markdown",
   "metadata": {},
   "source": [
    "**gross:**"
   ]
  },
  {
   "cell_type": "code",
   "execution_count": 22,
   "metadata": {},
   "outputs": [],
   "source": [
    "df1.gross = df1.gross.astype(str)\n",
    "df1.gross = df1.gross.apply(lambda x: x.replace('$','').replace('M',''))"
   ]
  },
  {
   "cell_type": "code",
   "execution_count": 23,
   "metadata": {},
   "outputs": [],
   "source": [
    "# There are '#' in the gross\n",
    "df1.gross = df1.gross.apply(lambda x: x.replace('#','') if '#' in x else x)"
   ]
  },
  {
   "cell_type": "code",
   "execution_count": 24,
   "metadata": {},
   "outputs": [],
   "source": [
    "df1['gross'] = df1['gross'].astype(float)"
   ]
  },
  {
   "cell_type": "code",
   "execution_count": 25,
   "metadata": {},
   "outputs": [],
   "source": [
    "df1.rename(columns={'gross':'gross(millions)'},inplace=True)"
   ]
  },
  {
   "cell_type": "code",
   "execution_count": 26,
   "metadata": {},
   "outputs": [
    {
     "name": "stdout",
     "output_type": "stream",
     "text": [
      "<class 'pandas.core.frame.DataFrame'>\n",
      "RangeIndex: 1000 entries, 0 to 999\n",
      "Data columns (total 7 columns):\n",
      " #   Column           Non-Null Count  Dtype  \n",
      "---  ------           --------------  -----  \n",
      " 0   name             1000 non-null   object \n",
      " 1   year             1000 non-null   int64  \n",
      " 2   category         1000 non-null   object \n",
      " 3   rating           1000 non-null   float64\n",
      " 4   metascore        845 non-null    object \n",
      " 5   votes            1000 non-null   int64  \n",
      " 6   gross(millions)  834 non-null    float64\n",
      "dtypes: float64(2), int64(2), object(3)\n",
      "memory usage: 54.8+ KB\n"
     ]
    }
   ],
   "source": [
    "df1.info()"
   ]
  },
  {
   "cell_type": "code",
   "execution_count": null,
   "metadata": {},
   "outputs": [],
   "source": []
  },
  {
   "cell_type": "markdown",
   "metadata": {},
   "source": [
    "#### Fixing Completeness issue"
   ]
  },
  {
   "cell_type": "code",
   "execution_count": 27,
   "metadata": {},
   "outputs": [],
   "source": [
    "df1_gross = df1[~df1['gross(millions)'].isna()]\n",
    "df1_gross_na = df1[df1['gross(millions)'].isna()]"
   ]
  },
  {
   "cell_type": "code",
   "execution_count": 28,
   "metadata": {},
   "outputs": [
    {
     "data": {
      "text/html": [
       "<div>\n",
       "<style scoped>\n",
       "    .dataframe tbody tr th:only-of-type {\n",
       "        vertical-align: middle;\n",
       "    }\n",
       "\n",
       "    .dataframe tbody tr th {\n",
       "        vertical-align: top;\n",
       "    }\n",
       "\n",
       "    .dataframe thead th {\n",
       "        text-align: right;\n",
       "    }\n",
       "</style>\n",
       "<table border=\"1\" class=\"dataframe\">\n",
       "  <thead>\n",
       "    <tr style=\"text-align: right;\">\n",
       "      <th></th>\n",
       "      <th>name</th>\n",
       "      <th>year</th>\n",
       "      <th>category</th>\n",
       "      <th>rating</th>\n",
       "      <th>metascore</th>\n",
       "      <th>votes</th>\n",
       "      <th>gross(millions)</th>\n",
       "    </tr>\n",
       "  </thead>\n",
       "  <tbody>\n",
       "    <tr>\n",
       "      <th>15</th>\n",
       "      <td>777 Charlie</td>\n",
       "      <td>2022</td>\n",
       "      <td>Adventure, Comedy, Drama</td>\n",
       "      <td>8.8</td>\n",
       "      <td>NaN</td>\n",
       "      <td>37144</td>\n",
       "      <td>NaN</td>\n",
       "    </tr>\n",
       "    <tr>\n",
       "      <th>22</th>\n",
       "      <td>Rocketry: The Nambi Effect</td>\n",
       "      <td>2022</td>\n",
       "      <td>Biography, Drama</td>\n",
       "      <td>8.7</td>\n",
       "      <td>NaN</td>\n",
       "      <td>55772</td>\n",
       "      <td>NaN</td>\n",
       "    </tr>\n",
       "    <tr>\n",
       "      <th>23</th>\n",
       "      <td>Soorarai Pottru</td>\n",
       "      <td>2020</td>\n",
       "      <td>Action, Drama</td>\n",
       "      <td>8.7</td>\n",
       "      <td>NaN</td>\n",
       "      <td>121172</td>\n",
       "      <td>NaN</td>\n",
       "    </tr>\n",
       "    <tr>\n",
       "      <th>36</th>\n",
       "      <td>Sita Ramam</td>\n",
       "      <td>2022</td>\n",
       "      <td>Action, Drama, Mystery</td>\n",
       "      <td>8.6</td>\n",
       "      <td>NaN</td>\n",
       "      <td>63545</td>\n",
       "      <td>NaN</td>\n",
       "    </tr>\n",
       "    <tr>\n",
       "      <th>59</th>\n",
       "      <td>96</td>\n",
       "      <td>2018</td>\n",
       "      <td>Drama, Romance</td>\n",
       "      <td>8.5</td>\n",
       "      <td>NaN</td>\n",
       "      <td>34577</td>\n",
       "      <td>NaN</td>\n",
       "    </tr>\n",
       "    <tr>\n",
       "      <th>...</th>\n",
       "      <td>...</td>\n",
       "      <td>...</td>\n",
       "      <td>...</td>\n",
       "      <td>...</td>\n",
       "      <td>...</td>\n",
       "      <td>...</td>\n",
       "      <td>...</td>\n",
       "    </tr>\n",
       "    <tr>\n",
       "      <th>979</th>\n",
       "      <td>Dark Waters</td>\n",
       "      <td>2019</td>\n",
       "      <td>Biography, Drama, History</td>\n",
       "      <td>7.6</td>\n",
       "      <td>73</td>\n",
       "      <td>96392</td>\n",
       "      <td>NaN</td>\n",
       "    </tr>\n",
       "    <tr>\n",
       "      <th>981</th>\n",
       "      <td>The Mitchells vs the Machines</td>\n",
       "      <td>2021</td>\n",
       "      <td>Animation, Action, Adventure</td>\n",
       "      <td>7.6</td>\n",
       "      <td>81</td>\n",
       "      <td>121375</td>\n",
       "      <td>NaN</td>\n",
       "    </tr>\n",
       "    <tr>\n",
       "      <th>982</th>\n",
       "      <td>The Invisible Man</td>\n",
       "      <td>1933</td>\n",
       "      <td>Horror, Sci-Fi</td>\n",
       "      <td>7.6</td>\n",
       "      <td>87</td>\n",
       "      <td>38624</td>\n",
       "      <td>NaN</td>\n",
       "    </tr>\n",
       "    <tr>\n",
       "      <th>989</th>\n",
       "      <td>Rebel Without a Cause</td>\n",
       "      <td>1955</td>\n",
       "      <td>Drama</td>\n",
       "      <td>7.6</td>\n",
       "      <td>89</td>\n",
       "      <td>95954</td>\n",
       "      <td>NaN</td>\n",
       "    </tr>\n",
       "    <tr>\n",
       "      <th>999</th>\n",
       "      <td>Cell 211</td>\n",
       "      <td>2009</td>\n",
       "      <td>Action, Crime, Drama</td>\n",
       "      <td>7.6</td>\n",
       "      <td>NaN</td>\n",
       "      <td>69827</td>\n",
       "      <td>NaN</td>\n",
       "    </tr>\n",
       "  </tbody>\n",
       "</table>\n",
       "<p>166 rows × 7 columns</p>\n",
       "</div>"
      ],
      "text/plain": [
       "                              name  year                      category  \\\n",
       "15                     777 Charlie  2022      Adventure, Comedy, Drama   \n",
       "22      Rocketry: The Nambi Effect  2022              Biography, Drama   \n",
       "23                 Soorarai Pottru  2020                 Action, Drama   \n",
       "36                      Sita Ramam  2022        Action, Drama, Mystery   \n",
       "59                              96  2018                Drama, Romance   \n",
       "..                             ...   ...                           ...   \n",
       "979                    Dark Waters  2019     Biography, Drama, History   \n",
       "981  The Mitchells vs the Machines  2021  Animation, Action, Adventure   \n",
       "982              The Invisible Man  1933                Horror, Sci-Fi   \n",
       "989          Rebel Without a Cause  1955                         Drama   \n",
       "999                       Cell 211  2009          Action, Crime, Drama   \n",
       "\n",
       "     rating metascore   votes  gross(millions)  \n",
       "15      8.8       NaN   37144              NaN  \n",
       "22      8.7       NaN   55772              NaN  \n",
       "23      8.7       NaN  121172              NaN  \n",
       "36      8.6       NaN   63545              NaN  \n",
       "59      8.5       NaN   34577              NaN  \n",
       "..      ...       ...     ...              ...  \n",
       "979     7.6        73   96392              NaN  \n",
       "981     7.6        81  121375              NaN  \n",
       "982     7.6        87   38624              NaN  \n",
       "989     7.6        89   95954              NaN  \n",
       "999     7.6       NaN   69827              NaN  \n",
       "\n",
       "[166 rows x 7 columns]"
      ]
     },
     "execution_count": 28,
     "metadata": {},
     "output_type": "execute_result"
    }
   ],
   "source": [
    "df1_gross_na"
   ]
  },
  {
   "cell_type": "code",
   "execution_count": 29,
   "metadata": {},
   "outputs": [],
   "source": [
    "key = df1['category'].unique()\n",
    "key = np.sort(key)"
   ]
  },
  {
   "cell_type": "code",
   "execution_count": 30,
   "metadata": {
    "scrolled": false
   },
   "outputs": [],
   "source": [
    "values = df1.groupby(by=['category'])['gross(millions)'].mean()"
   ]
  },
  {
   "cell_type": "code",
   "execution_count": 31,
   "metadata": {},
   "outputs": [],
   "source": [
    "values = np.array(values)"
   ]
  },
  {
   "cell_type": "code",
   "execution_count": 32,
   "metadata": {
    "scrolled": true
   },
   "outputs": [],
   "source": [
    "Dict = dict(zip(key, values))"
   ]
  },
  {
   "cell_type": "code",
   "execution_count": 33,
   "metadata": {},
   "outputs": [
    {
     "data": {
      "text/html": [
       "<div>\n",
       "<style scoped>\n",
       "    .dataframe tbody tr th:only-of-type {\n",
       "        vertical-align: middle;\n",
       "    }\n",
       "\n",
       "    .dataframe tbody tr th {\n",
       "        vertical-align: top;\n",
       "    }\n",
       "\n",
       "    .dataframe thead th {\n",
       "        text-align: right;\n",
       "    }\n",
       "</style>\n",
       "<table border=\"1\" class=\"dataframe\">\n",
       "  <thead>\n",
       "    <tr style=\"text-align: right;\">\n",
       "      <th></th>\n",
       "      <th>name</th>\n",
       "      <th>year</th>\n",
       "      <th>category</th>\n",
       "      <th>rating</th>\n",
       "      <th>metascore</th>\n",
       "      <th>votes</th>\n",
       "      <th>gross(millions)</th>\n",
       "    </tr>\n",
       "  </thead>\n",
       "  <tbody>\n",
       "    <tr>\n",
       "      <th>15</th>\n",
       "      <td>777 Charlie</td>\n",
       "      <td>2022</td>\n",
       "      <td>Adventure, Comedy, Drama</td>\n",
       "      <td>8.8</td>\n",
       "      <td>NaN</td>\n",
       "      <td>37144</td>\n",
       "      <td>19.380000</td>\n",
       "    </tr>\n",
       "    <tr>\n",
       "      <th>22</th>\n",
       "      <td>Rocketry: The Nambi Effect</td>\n",
       "      <td>2022</td>\n",
       "      <td>Biography, Drama</td>\n",
       "      <td>8.7</td>\n",
       "      <td>NaN</td>\n",
       "      <td>55772</td>\n",
       "      <td>57.683077</td>\n",
       "    </tr>\n",
       "    <tr>\n",
       "      <th>23</th>\n",
       "      <td>Soorarai Pottru</td>\n",
       "      <td>2020</td>\n",
       "      <td>Action, Drama</td>\n",
       "      <td>8.7</td>\n",
       "      <td>NaN</td>\n",
       "      <td>121172</td>\n",
       "      <td>124.524444</td>\n",
       "    </tr>\n",
       "    <tr>\n",
       "      <th>36</th>\n",
       "      <td>Sita Ramam</td>\n",
       "      <td>2022</td>\n",
       "      <td>Action, Drama, Mystery</td>\n",
       "      <td>8.6</td>\n",
       "      <td>NaN</td>\n",
       "      <td>63545</td>\n",
       "      <td>61.317500</td>\n",
       "    </tr>\n",
       "    <tr>\n",
       "      <th>59</th>\n",
       "      <td>96</td>\n",
       "      <td>2018</td>\n",
       "      <td>Drama, Romance</td>\n",
       "      <td>8.5</td>\n",
       "      <td>NaN</td>\n",
       "      <td>34577</td>\n",
       "      <td>62.784375</td>\n",
       "    </tr>\n",
       "    <tr>\n",
       "      <th>...</th>\n",
       "      <td>...</td>\n",
       "      <td>...</td>\n",
       "      <td>...</td>\n",
       "      <td>...</td>\n",
       "      <td>...</td>\n",
       "      <td>...</td>\n",
       "      <td>...</td>\n",
       "    </tr>\n",
       "    <tr>\n",
       "      <th>979</th>\n",
       "      <td>Dark Waters</td>\n",
       "      <td>2019</td>\n",
       "      <td>Biography, Drama, History</td>\n",
       "      <td>7.6</td>\n",
       "      <td>73</td>\n",
       "      <td>96392</td>\n",
       "      <td>56.693043</td>\n",
       "    </tr>\n",
       "    <tr>\n",
       "      <th>981</th>\n",
       "      <td>The Mitchells vs the Machines</td>\n",
       "      <td>2021</td>\n",
       "      <td>Animation, Action, Adventure</td>\n",
       "      <td>7.6</td>\n",
       "      <td>81</td>\n",
       "      <td>121375</td>\n",
       "      <td>130.066154</td>\n",
       "    </tr>\n",
       "    <tr>\n",
       "      <th>982</th>\n",
       "      <td>The Invisible Man</td>\n",
       "      <td>1933</td>\n",
       "      <td>Horror, Sci-Fi</td>\n",
       "      <td>7.6</td>\n",
       "      <td>87</td>\n",
       "      <td>38624</td>\n",
       "      <td>78.900000</td>\n",
       "    </tr>\n",
       "    <tr>\n",
       "      <th>989</th>\n",
       "      <td>Rebel Without a Cause</td>\n",
       "      <td>1955</td>\n",
       "      <td>Drama</td>\n",
       "      <td>7.6</td>\n",
       "      <td>89</td>\n",
       "      <td>95954</td>\n",
       "      <td>29.495395</td>\n",
       "    </tr>\n",
       "    <tr>\n",
       "      <th>999</th>\n",
       "      <td>Cell 211</td>\n",
       "      <td>2009</td>\n",
       "      <td>Action, Crime, Drama</td>\n",
       "      <td>7.6</td>\n",
       "      <td>NaN</td>\n",
       "      <td>69827</td>\n",
       "      <td>94.518889</td>\n",
       "    </tr>\n",
       "  </tbody>\n",
       "</table>\n",
       "<p>166 rows × 7 columns</p>\n",
       "</div>"
      ],
      "text/plain": [
       "                              name  year                      category  \\\n",
       "15                     777 Charlie  2022      Adventure, Comedy, Drama   \n",
       "22      Rocketry: The Nambi Effect  2022              Biography, Drama   \n",
       "23                 Soorarai Pottru  2020                 Action, Drama   \n",
       "36                      Sita Ramam  2022        Action, Drama, Mystery   \n",
       "59                              96  2018                Drama, Romance   \n",
       "..                             ...   ...                           ...   \n",
       "979                    Dark Waters  2019     Biography, Drama, History   \n",
       "981  The Mitchells vs the Machines  2021  Animation, Action, Adventure   \n",
       "982              The Invisible Man  1933                Horror, Sci-Fi   \n",
       "989          Rebel Without a Cause  1955                         Drama   \n",
       "999                       Cell 211  2009          Action, Crime, Drama   \n",
       "\n",
       "     rating metascore   votes  gross(millions)  \n",
       "15      8.8       NaN   37144        19.380000  \n",
       "22      8.7       NaN   55772        57.683077  \n",
       "23      8.7       NaN  121172       124.524444  \n",
       "36      8.6       NaN   63545        61.317500  \n",
       "59      8.5       NaN   34577        62.784375  \n",
       "..      ...       ...     ...              ...  \n",
       "979     7.6        73   96392        56.693043  \n",
       "981     7.6        81  121375       130.066154  \n",
       "982     7.6        87   38624        78.900000  \n",
       "989     7.6        89   95954        29.495395  \n",
       "999     7.6       NaN   69827        94.518889  \n",
       "\n",
       "[166 rows x 7 columns]"
      ]
     },
     "execution_count": 33,
     "metadata": {},
     "output_type": "execute_result"
    }
   ],
   "source": [
    "df1_gross_na['gross(millions)'] = df1_gross_na['category'].apply(lambda x:Dict[x])\n",
    "df1_gross_na"
   ]
  },
  {
   "cell_type": "code",
   "execution_count": 34,
   "metadata": {},
   "outputs": [],
   "source": [
    "df1 = pd.concat([df1_gross, df1_gross_na])"
   ]
  },
  {
   "cell_type": "code",
   "execution_count": 35,
   "metadata": {},
   "outputs": [
    {
     "data": {
      "text/html": [
       "<div>\n",
       "<style scoped>\n",
       "    .dataframe tbody tr th:only-of-type {\n",
       "        vertical-align: middle;\n",
       "    }\n",
       "\n",
       "    .dataframe tbody tr th {\n",
       "        vertical-align: top;\n",
       "    }\n",
       "\n",
       "    .dataframe thead th {\n",
       "        text-align: right;\n",
       "    }\n",
       "</style>\n",
       "<table border=\"1\" class=\"dataframe\">\n",
       "  <thead>\n",
       "    <tr style=\"text-align: right;\">\n",
       "      <th></th>\n",
       "      <th>name</th>\n",
       "      <th>year</th>\n",
       "      <th>category</th>\n",
       "      <th>rating</th>\n",
       "      <th>metascore</th>\n",
       "      <th>votes</th>\n",
       "      <th>gross(millions)</th>\n",
       "    </tr>\n",
       "  </thead>\n",
       "  <tbody>\n",
       "    <tr>\n",
       "      <th>686</th>\n",
       "      <td>Thirteen Lives</td>\n",
       "      <td>2022</td>\n",
       "      <td>Action, Adventure, Biography</td>\n",
       "      <td>7.8</td>\n",
       "      <td>66</td>\n",
       "      <td>64164</td>\n",
       "      <td>NaN</td>\n",
       "    </tr>\n",
       "    <tr>\n",
       "      <th>720</th>\n",
       "      <td>Aguirre, the Wrath of God</td>\n",
       "      <td>1972</td>\n",
       "      <td>Action, Adventure, Biography</td>\n",
       "      <td>7.8</td>\n",
       "      <td>NaN</td>\n",
       "      <td>60330</td>\n",
       "      <td>NaN</td>\n",
       "    </tr>\n",
       "    <tr>\n",
       "      <th>87</th>\n",
       "      <td>Kaithi</td>\n",
       "      <td>2019</td>\n",
       "      <td>Action, Adventure, Crime</td>\n",
       "      <td>8.4</td>\n",
       "      <td>NaN</td>\n",
       "      <td>38409</td>\n",
       "      <td>NaN</td>\n",
       "    </tr>\n",
       "    <tr>\n",
       "      <th>727</th>\n",
       "      <td>To Have and Have Not</td>\n",
       "      <td>1944</td>\n",
       "      <td>Adventure, Comedy, Film-Noir</td>\n",
       "      <td>7.8</td>\n",
       "      <td>90</td>\n",
       "      <td>37264</td>\n",
       "      <td>NaN</td>\n",
       "    </tr>\n",
       "    <tr>\n",
       "      <th>729</th>\n",
       "      <td>The Man Who Would Be King</td>\n",
       "      <td>1975</td>\n",
       "      <td>Adventure, War</td>\n",
       "      <td>7.8</td>\n",
       "      <td>91</td>\n",
       "      <td>51125</td>\n",
       "      <td>NaN</td>\n",
       "    </tr>\n",
       "    <tr>\n",
       "      <th>271</th>\n",
       "      <td>A Silent Voice: The Movie</td>\n",
       "      <td>2016</td>\n",
       "      <td>Animation, Drama</td>\n",
       "      <td>8.1</td>\n",
       "      <td>78</td>\n",
       "      <td>94506</td>\n",
       "      <td>NaN</td>\n",
       "    </tr>\n",
       "    <tr>\n",
       "      <th>554</th>\n",
       "      <td>The Thin Man</td>\n",
       "      <td>1934</td>\n",
       "      <td>Comedy, Crime, Mystery</td>\n",
       "      <td>7.9</td>\n",
       "      <td>86</td>\n",
       "      <td>31789</td>\n",
       "      <td>NaN</td>\n",
       "    </tr>\n",
       "    <tr>\n",
       "      <th>493</th>\n",
       "      <td>Arsenic and Old Lace</td>\n",
       "      <td>1944</td>\n",
       "      <td>Comedy, Crime, Thriller</td>\n",
       "      <td>7.9</td>\n",
       "      <td>NaN</td>\n",
       "      <td>73707</td>\n",
       "      <td>NaN</td>\n",
       "    </tr>\n",
       "    <tr>\n",
       "      <th>334</th>\n",
       "      <td>The Circus</td>\n",
       "      <td>1928</td>\n",
       "      <td>Comedy, Family, Romance</td>\n",
       "      <td>8.1</td>\n",
       "      <td>90</td>\n",
       "      <td>35359</td>\n",
       "      <td>NaN</td>\n",
       "    </tr>\n",
       "    <tr>\n",
       "      <th>745</th>\n",
       "      <td>Duck Soup</td>\n",
       "      <td>1933</td>\n",
       "      <td>Comedy, Musical</td>\n",
       "      <td>7.8</td>\n",
       "      <td>93</td>\n",
       "      <td>61949</td>\n",
       "      <td>NaN</td>\n",
       "    </tr>\n",
       "    <tr>\n",
       "      <th>567</th>\n",
       "      <td>The Big Heat</td>\n",
       "      <td>1953</td>\n",
       "      <td>Crime, Film-Noir, Thriller</td>\n",
       "      <td>7.9</td>\n",
       "      <td>NaN</td>\n",
       "      <td>28288</td>\n",
       "      <td>NaN</td>\n",
       "    </tr>\n",
       "    <tr>\n",
       "      <th>669</th>\n",
       "      <td>The Man from Earth</td>\n",
       "      <td>2007</td>\n",
       "      <td>Drama, Fantasy, Mystery</td>\n",
       "      <td>7.8</td>\n",
       "      <td>NaN</td>\n",
       "      <td>195610</td>\n",
       "      <td>NaN</td>\n",
       "    </tr>\n",
       "    <tr>\n",
       "      <th>548</th>\n",
       "      <td>The Leopard</td>\n",
       "      <td>1963</td>\n",
       "      <td>Drama, History</td>\n",
       "      <td>7.9</td>\n",
       "      <td>100</td>\n",
       "      <td>28024</td>\n",
       "      <td>NaN</td>\n",
       "    </tr>\n",
       "    <tr>\n",
       "      <th>504</th>\n",
       "      <td>Nosferatu</td>\n",
       "      <td>1922</td>\n",
       "      <td>Fantasy, Horror</td>\n",
       "      <td>7.9</td>\n",
       "      <td>NaN</td>\n",
       "      <td>102722</td>\n",
       "      <td>NaN</td>\n",
       "    </tr>\n",
       "    <tr>\n",
       "      <th>701</th>\n",
       "      <td>Shadow of a Doubt</td>\n",
       "      <td>1943</td>\n",
       "      <td>Film-Noir, Thriller</td>\n",
       "      <td>7.8</td>\n",
       "      <td>94</td>\n",
       "      <td>68967</td>\n",
       "      <td>NaN</td>\n",
       "    </tr>\n",
       "  </tbody>\n",
       "</table>\n",
       "</div>"
      ],
      "text/plain": [
       "                          name  year                      category  rating  \\\n",
       "686             Thirteen Lives  2022  Action, Adventure, Biography     7.8   \n",
       "720  Aguirre, the Wrath of God  1972  Action, Adventure, Biography     7.8   \n",
       "87                      Kaithi  2019      Action, Adventure, Crime     8.4   \n",
       "727       To Have and Have Not  1944  Adventure, Comedy, Film-Noir     7.8   \n",
       "729  The Man Who Would Be King  1975                Adventure, War     7.8   \n",
       "271  A Silent Voice: The Movie  2016              Animation, Drama     8.1   \n",
       "554               The Thin Man  1934        Comedy, Crime, Mystery     7.9   \n",
       "493       Arsenic and Old Lace  1944       Comedy, Crime, Thriller     7.9   \n",
       "334                 The Circus  1928       Comedy, Family, Romance     8.1   \n",
       "745                  Duck Soup  1933               Comedy, Musical     7.8   \n",
       "567               The Big Heat  1953    Crime, Film-Noir, Thriller     7.9   \n",
       "669         The Man from Earth  2007       Drama, Fantasy, Mystery     7.8   \n",
       "548                The Leopard  1963                Drama, History     7.9   \n",
       "504                  Nosferatu  1922               Fantasy, Horror     7.9   \n",
       "701          Shadow of a Doubt  1943           Film-Noir, Thriller     7.8   \n",
       "\n",
       "    metascore   votes  gross(millions)  \n",
       "686        66   64164              NaN  \n",
       "720       NaN   60330              NaN  \n",
       "87        NaN   38409              NaN  \n",
       "727        90   37264              NaN  \n",
       "729        91   51125              NaN  \n",
       "271        78   94506              NaN  \n",
       "554        86   31789              NaN  \n",
       "493       NaN   73707              NaN  \n",
       "334        90   35359              NaN  \n",
       "745        93   61949              NaN  \n",
       "567       NaN   28288              NaN  \n",
       "669       NaN  195610              NaN  \n",
       "548       100   28024              NaN  \n",
       "504       NaN  102722              NaN  \n",
       "701        94   68967              NaN  "
      ]
     },
     "execution_count": 35,
     "metadata": {},
     "output_type": "execute_result"
    }
   ],
   "source": [
    "df1[df1['gross(millions)'].isna()].sort_values(by='category')"
   ]
  },
  {
   "cell_type": "markdown",
   "metadata": {
    "id": "n_DAUbJrymBL"
   },
   "source": [
    "### **Quality Issue 2: FILL IN**"
   ]
  },
  {
   "cell_type": "code",
   "execution_count": 36,
   "metadata": {},
   "outputs": [
    {
     "data": {
      "text/html": [
       "<div>\n",
       "<style scoped>\n",
       "    .dataframe tbody tr th:only-of-type {\n",
       "        vertical-align: middle;\n",
       "    }\n",
       "\n",
       "    .dataframe tbody tr th {\n",
       "        vertical-align: top;\n",
       "    }\n",
       "\n",
       "    .dataframe thead th {\n",
       "        text-align: right;\n",
       "    }\n",
       "</style>\n",
       "<table border=\"1\" class=\"dataframe\">\n",
       "  <thead>\n",
       "    <tr style=\"text-align: right;\">\n",
       "      <th></th>\n",
       "      <th>Movie Title</th>\n",
       "      <th>Movie Year</th>\n",
       "      <th>Runtime</th>\n",
       "      <th>Genre</th>\n",
       "      <th>Rating</th>\n",
       "      <th>Director</th>\n",
       "      <th>Votes</th>\n",
       "      <th>Gross</th>\n",
       "    </tr>\n",
       "  </thead>\n",
       "  <tbody>\n",
       "    <tr>\n",
       "      <th>0</th>\n",
       "      <td>Alien</td>\n",
       "      <td>1979</td>\n",
       "      <td>117</td>\n",
       "      <td>Horror, Sci-Fi</td>\n",
       "      <td>8.5</td>\n",
       "      <td>Ridley Scott</td>\n",
       "      <td>9,05,275</td>\n",
       "      <td>$78.90M</td>\n",
       "    </tr>\n",
       "    <tr>\n",
       "      <th>1</th>\n",
       "      <td>Psycho</td>\n",
       "      <td>1960</td>\n",
       "      <td>109</td>\n",
       "      <td>Horror, Mystery, Thriller</td>\n",
       "      <td>8.5</td>\n",
       "      <td>Alfred Hitchcock</td>\n",
       "      <td>6,89,068</td>\n",
       "      <td>$32.00M</td>\n",
       "    </tr>\n",
       "    <tr>\n",
       "      <th>2</th>\n",
       "      <td>The Shining</td>\n",
       "      <td>1980</td>\n",
       "      <td>146</td>\n",
       "      <td>Drama, Horror</td>\n",
       "      <td>8.4</td>\n",
       "      <td>Stanley Kubrick</td>\n",
       "      <td>10,51,582</td>\n",
       "      <td>$44.02M</td>\n",
       "    </tr>\n",
       "    <tr>\n",
       "      <th>3</th>\n",
       "      <td>The Thing</td>\n",
       "      <td>1982</td>\n",
       "      <td>109</td>\n",
       "      <td>Horror, Mystery, Sci-Fi</td>\n",
       "      <td>8.2</td>\n",
       "      <td>John Carpenter</td>\n",
       "      <td>4,39,793</td>\n",
       "      <td>$13.78M</td>\n",
       "    </tr>\n",
       "    <tr>\n",
       "      <th>4</th>\n",
       "      <td>Tumbbad</td>\n",
       "      <td>2018</td>\n",
       "      <td>104</td>\n",
       "      <td>Drama, Fantasy, Horror</td>\n",
       "      <td>8.2</td>\n",
       "      <td>Rahi Anil Barve</td>\n",
       "      <td>53,297</td>\n",
       "      <td>NaN</td>\n",
       "    </tr>\n",
       "  </tbody>\n",
       "</table>\n",
       "</div>"
      ],
      "text/plain": [
       "   Movie Title  Movie Year  Runtime                      Genre  Rating  \\\n",
       "0        Alien        1979      117             Horror, Sci-Fi     8.5   \n",
       "1       Psycho        1960      109  Horror, Mystery, Thriller     8.5   \n",
       "2  The Shining        1980      146              Drama, Horror     8.4   \n",
       "3    The Thing        1982      109    Horror, Mystery, Sci-Fi     8.2   \n",
       "4      Tumbbad        2018      104     Drama, Fantasy, Horror     8.2   \n",
       "\n",
       "           Director      Votes    Gross  \n",
       "0      Ridley Scott   9,05,275  $78.90M  \n",
       "1  Alfred Hitchcock   6,89,068  $32.00M  \n",
       "2   Stanley Kubrick  10,51,582  $44.02M  \n",
       "3    John Carpenter   4,39,793  $13.78M  \n",
       "4   Rahi Anil Barve     53,297      NaN  "
      ]
     },
     "execution_count": 36,
     "metadata": {},
     "output_type": "execute_result"
    }
   ],
   "source": [
    "df2.head()"
   ]
  },
  {
   "cell_type": "code",
   "execution_count": 37,
   "metadata": {
    "scrolled": true
   },
   "outputs": [
    {
     "name": "stdout",
     "output_type": "stream",
     "text": [
      "<class 'pandas.core.frame.DataFrame'>\n",
      "RangeIndex: 836 entries, 0 to 835\n",
      "Data columns (total 8 columns):\n",
      " #   Column       Non-Null Count  Dtype  \n",
      "---  ------       --------------  -----  \n",
      " 0   Movie Title  836 non-null    object \n",
      " 1   Movie Year   836 non-null    int64  \n",
      " 2   Runtime      836 non-null    int64  \n",
      " 3   Genre        836 non-null    object \n",
      " 4   Rating       836 non-null    float64\n",
      " 5   Director     836 non-null    object \n",
      " 6   Votes        836 non-null    object \n",
      " 7   Gross        637 non-null    object \n",
      "dtypes: float64(1), int64(2), object(5)\n",
      "memory usage: 52.4+ KB\n"
     ]
    }
   ],
   "source": [
    "df2.info()"
   ]
  },
  {
   "cell_type": "markdown",
   "metadata": {},
   "source": [
    "#### Fixing Validity issue"
   ]
  },
  {
   "cell_type": "markdown",
   "metadata": {},
   "source": [
    "**votes:**"
   ]
  },
  {
   "cell_type": "code",
   "execution_count": 38,
   "metadata": {},
   "outputs": [],
   "source": [
    "df2.Votes = df2.Votes.apply(lambda x: x.replace(',',''))\n",
    "df2.Votes = df2.Votes.astype(int)"
   ]
  },
  {
   "cell_type": "markdown",
   "metadata": {},
   "source": [
    "**gross:**"
   ]
  },
  {
   "cell_type": "code",
   "execution_count": 39,
   "metadata": {},
   "outputs": [],
   "source": [
    "df2.Gross = df2.Gross.astype(str)\n",
    "df2.Gross = df2.Gross.apply(lambda x: x.replace('$','').replace('M',''))"
   ]
  },
  {
   "cell_type": "code",
   "execution_count": 40,
   "metadata": {},
   "outputs": [],
   "source": [
    "df2.Gross=df2.Gross.astype(float)"
   ]
  },
  {
   "cell_type": "code",
   "execution_count": 41,
   "metadata": {},
   "outputs": [],
   "source": [
    "df2.rename(columns={'Gross':'Gross(millions)'},inplace=True)"
   ]
  },
  {
   "cell_type": "code",
   "execution_count": 42,
   "metadata": {},
   "outputs": [
    {
     "name": "stdout",
     "output_type": "stream",
     "text": [
      "<class 'pandas.core.frame.DataFrame'>\n",
      "RangeIndex: 836 entries, 0 to 835\n",
      "Data columns (total 8 columns):\n",
      " #   Column           Non-Null Count  Dtype  \n",
      "---  ------           --------------  -----  \n",
      " 0   Movie Title      836 non-null    object \n",
      " 1   Movie Year       836 non-null    int64  \n",
      " 2   Runtime          836 non-null    int64  \n",
      " 3   Genre            836 non-null    object \n",
      " 4   Rating           836 non-null    float64\n",
      " 5   Director         836 non-null    object \n",
      " 6   Votes            836 non-null    int64  \n",
      " 7   Gross(millions)  637 non-null    float64\n",
      "dtypes: float64(2), int64(3), object(3)\n",
      "memory usage: 52.4+ KB\n"
     ]
    }
   ],
   "source": [
    "df2.info()"
   ]
  },
  {
   "cell_type": "markdown",
   "metadata": {
    "id": "bIUrrfSNyOPR"
   },
   "source": [
    "### **Tidiness Issue 1: FILL IN**"
   ]
  },
  {
   "cell_type": "markdown",
   "metadata": {},
   "source": [
    "#### Fixing Data Structuring issue\n",
    "Dataset 1 is the collection of top 1000 movies in IMDb. We do want to keep all records and the metascore is not really important, therefore,\n",
    "- 1. category into three columns: [genre_1, genre_2, genre_3]\n",
    "- 2. remove the category and metascore variables\n",
    "- 3. replace nan in gross by mean of the category (using group-by)"
   ]
  },
  {
   "cell_type": "code",
   "execution_count": 43,
   "metadata": {},
   "outputs": [],
   "source": [
    "df1['genre_1'] = df1['category'].apply(lambda x:x.split(', ')[0])\n",
    "df1['genre_2'] = df1['category'].apply(lambda x:x.split(', ')[1] if len(x.split(', '))>1 else np.nan)\n",
    "df1['genre_3'] = df1['category'].apply(lambda x:x.split(', ')[2] if len(x.split(', '))>2 else np.nan)"
   ]
  },
  {
   "cell_type": "code",
   "execution_count": 44,
   "metadata": {
    "scrolled": true
   },
   "outputs": [],
   "source": [
    "arr1=df1.genre_1.unique().astype('str')"
   ]
  },
  {
   "cell_type": "code",
   "execution_count": 45,
   "metadata": {},
   "outputs": [],
   "source": [
    "arr2=df1.genre_2.unique().astype('str')"
   ]
  },
  {
   "cell_type": "code",
   "execution_count": 46,
   "metadata": {
    "scrolled": true
   },
   "outputs": [],
   "source": [
    "arr3=df1.genre_3.unique().astype('str')"
   ]
  },
  {
   "cell_type": "code",
   "execution_count": 47,
   "metadata": {
    "scrolled": true
   },
   "outputs": [
    {
     "name": "stdout",
     "output_type": "stream",
     "text": [
      "['Action' 'Adventure' 'Animation' 'Biography' 'Comedy' 'Crime' 'Drama'\n",
      " 'Family' 'Fantasy' 'Film-Noir' 'History' 'Horror' 'Music' 'Musical'\n",
      " 'Mystery' 'Romance' 'Sci-Fi' 'Sport' 'Thriller' 'War' 'Western' 'nan']\n",
      "22\n"
     ]
    }
   ],
   "source": [
    "genre_all=np.concatenate([arr1,arr2,arr3])\n",
    "print(np.unique(genre_all))\n",
    "print(len(np.unique(genre_all)))"
   ]
  },
  {
   "cell_type": "code",
   "execution_count": 48,
   "metadata": {},
   "outputs": [
    {
     "name": "stdout",
     "output_type": "stream",
     "text": [
      "(1000, 10)\n"
     ]
    },
    {
     "data": {
      "text/html": [
       "<div>\n",
       "<style scoped>\n",
       "    .dataframe tbody tr th:only-of-type {\n",
       "        vertical-align: middle;\n",
       "    }\n",
       "\n",
       "    .dataframe tbody tr th {\n",
       "        vertical-align: top;\n",
       "    }\n",
       "\n",
       "    .dataframe thead th {\n",
       "        text-align: right;\n",
       "    }\n",
       "</style>\n",
       "<table border=\"1\" class=\"dataframe\">\n",
       "  <thead>\n",
       "    <tr style=\"text-align: right;\">\n",
       "      <th></th>\n",
       "      <th>name</th>\n",
       "      <th>year</th>\n",
       "      <th>category</th>\n",
       "      <th>rating</th>\n",
       "      <th>metascore</th>\n",
       "      <th>votes</th>\n",
       "      <th>gross(millions)</th>\n",
       "      <th>genre_1</th>\n",
       "      <th>genre_2</th>\n",
       "      <th>genre_3</th>\n",
       "    </tr>\n",
       "  </thead>\n",
       "  <tbody>\n",
       "    <tr>\n",
       "      <th>0</th>\n",
       "      <td>The Shawshank Redemption</td>\n",
       "      <td>1994</td>\n",
       "      <td>Drama</td>\n",
       "      <td>9.3</td>\n",
       "      <td>82</td>\n",
       "      <td>2810128</td>\n",
       "      <td>28.34</td>\n",
       "      <td>Drama</td>\n",
       "      <td>NaN</td>\n",
       "      <td>NaN</td>\n",
       "    </tr>\n",
       "    <tr>\n",
       "      <th>1</th>\n",
       "      <td>The Godfather</td>\n",
       "      <td>1972</td>\n",
       "      <td>Crime, Drama</td>\n",
       "      <td>9.2</td>\n",
       "      <td>100</td>\n",
       "      <td>1958323</td>\n",
       "      <td>134.97</td>\n",
       "      <td>Crime</td>\n",
       "      <td>Drama</td>\n",
       "      <td>NaN</td>\n",
       "    </tr>\n",
       "    <tr>\n",
       "      <th>2</th>\n",
       "      <td>The Dark Knight</td>\n",
       "      <td>2008</td>\n",
       "      <td>Action, Crime, Drama</td>\n",
       "      <td>9.0</td>\n",
       "      <td>84</td>\n",
       "      <td>2791759</td>\n",
       "      <td>534.86</td>\n",
       "      <td>Action</td>\n",
       "      <td>Crime</td>\n",
       "      <td>Drama</td>\n",
       "    </tr>\n",
       "    <tr>\n",
       "      <th>3</th>\n",
       "      <td>Schindler's List</td>\n",
       "      <td>1993</td>\n",
       "      <td>Biography, Drama, History</td>\n",
       "      <td>9.0</td>\n",
       "      <td>95</td>\n",
       "      <td>1412629</td>\n",
       "      <td>96.90</td>\n",
       "      <td>Biography</td>\n",
       "      <td>Drama</td>\n",
       "      <td>History</td>\n",
       "    </tr>\n",
       "    <tr>\n",
       "      <th>4</th>\n",
       "      <td>The Lord of the Rings: The Return of the King</td>\n",
       "      <td>2003</td>\n",
       "      <td>Action, Adventure, Drama</td>\n",
       "      <td>9.0</td>\n",
       "      <td>94</td>\n",
       "      <td>1923739</td>\n",
       "      <td>377.85</td>\n",
       "      <td>Action</td>\n",
       "      <td>Adventure</td>\n",
       "      <td>Drama</td>\n",
       "    </tr>\n",
       "  </tbody>\n",
       "</table>\n",
       "</div>"
      ],
      "text/plain": [
       "                                            name  year  \\\n",
       "0                       The Shawshank Redemption  1994   \n",
       "1                                  The Godfather  1972   \n",
       "2                                The Dark Knight  2008   \n",
       "3                               Schindler's List  1993   \n",
       "4  The Lord of the Rings: The Return of the King  2003   \n",
       "\n",
       "                    category  rating metascore    votes  gross(millions)  \\\n",
       "0                      Drama     9.3        82  2810128            28.34   \n",
       "1               Crime, Drama     9.2       100  1958323           134.97   \n",
       "2       Action, Crime, Drama     9.0        84  2791759           534.86   \n",
       "3  Biography, Drama, History     9.0        95  1412629            96.90   \n",
       "4   Action, Adventure, Drama     9.0        94  1923739           377.85   \n",
       "\n",
       "     genre_1    genre_2  genre_3  \n",
       "0      Drama        NaN      NaN  \n",
       "1      Crime      Drama      NaN  \n",
       "2     Action      Crime    Drama  \n",
       "3  Biography      Drama  History  \n",
       "4     Action  Adventure    Drama  "
      ]
     },
     "execution_count": 48,
     "metadata": {},
     "output_type": "execute_result"
    }
   ],
   "source": [
    "print(df1.shape)\n",
    "df1.head()"
   ]
  },
  {
   "cell_type": "markdown",
   "metadata": {
    "id": "o51Bt8kwyTzk"
   },
   "source": [
    "### **Tidiness Issue 2: FILL IN**"
   ]
  },
  {
   "cell_type": "code",
   "execution_count": 49,
   "metadata": {},
   "outputs": [],
   "source": [
    "df2['genre_1'] = df2['Genre'].apply(lambda x:x.split(', ')[0])\n",
    "df2['genre_2'] = df2['Genre'].apply(lambda x:x.split(', ')[1] if len(x.split(', '))>1 else np.nan)\n",
    "df2['genre_3'] = df2['Genre'].apply(lambda x:x.split(', ')[2] if len(x.split(', '))>2 else np.nan)"
   ]
  },
  {
   "cell_type": "code",
   "execution_count": 50,
   "metadata": {},
   "outputs": [
    {
     "data": {
      "text/html": [
       "<div>\n",
       "<style scoped>\n",
       "    .dataframe tbody tr th:only-of-type {\n",
       "        vertical-align: middle;\n",
       "    }\n",
       "\n",
       "    .dataframe tbody tr th {\n",
       "        vertical-align: top;\n",
       "    }\n",
       "\n",
       "    .dataframe thead th {\n",
       "        text-align: right;\n",
       "    }\n",
       "</style>\n",
       "<table border=\"1\" class=\"dataframe\">\n",
       "  <thead>\n",
       "    <tr style=\"text-align: right;\">\n",
       "      <th></th>\n",
       "      <th>Movie Title</th>\n",
       "      <th>Movie Year</th>\n",
       "      <th>Runtime</th>\n",
       "      <th>Genre</th>\n",
       "      <th>Rating</th>\n",
       "      <th>Director</th>\n",
       "      <th>Votes</th>\n",
       "      <th>Gross(millions)</th>\n",
       "      <th>genre_1</th>\n",
       "      <th>genre_2</th>\n",
       "      <th>genre_3</th>\n",
       "    </tr>\n",
       "  </thead>\n",
       "  <tbody>\n",
       "    <tr>\n",
       "      <th>0</th>\n",
       "      <td>Alien</td>\n",
       "      <td>1979</td>\n",
       "      <td>117</td>\n",
       "      <td>Horror, Sci-Fi</td>\n",
       "      <td>8.5</td>\n",
       "      <td>Ridley Scott</td>\n",
       "      <td>905275</td>\n",
       "      <td>78.90</td>\n",
       "      <td>Horror</td>\n",
       "      <td>Sci-Fi</td>\n",
       "      <td>NaN</td>\n",
       "    </tr>\n",
       "    <tr>\n",
       "      <th>1</th>\n",
       "      <td>Psycho</td>\n",
       "      <td>1960</td>\n",
       "      <td>109</td>\n",
       "      <td>Horror, Mystery, Thriller</td>\n",
       "      <td>8.5</td>\n",
       "      <td>Alfred Hitchcock</td>\n",
       "      <td>689068</td>\n",
       "      <td>32.00</td>\n",
       "      <td>Horror</td>\n",
       "      <td>Mystery</td>\n",
       "      <td>Thriller</td>\n",
       "    </tr>\n",
       "    <tr>\n",
       "      <th>2</th>\n",
       "      <td>The Shining</td>\n",
       "      <td>1980</td>\n",
       "      <td>146</td>\n",
       "      <td>Drama, Horror</td>\n",
       "      <td>8.4</td>\n",
       "      <td>Stanley Kubrick</td>\n",
       "      <td>1051582</td>\n",
       "      <td>44.02</td>\n",
       "      <td>Drama</td>\n",
       "      <td>Horror</td>\n",
       "      <td>NaN</td>\n",
       "    </tr>\n",
       "    <tr>\n",
       "      <th>3</th>\n",
       "      <td>The Thing</td>\n",
       "      <td>1982</td>\n",
       "      <td>109</td>\n",
       "      <td>Horror, Mystery, Sci-Fi</td>\n",
       "      <td>8.2</td>\n",
       "      <td>John Carpenter</td>\n",
       "      <td>439793</td>\n",
       "      <td>13.78</td>\n",
       "      <td>Horror</td>\n",
       "      <td>Mystery</td>\n",
       "      <td>Sci-Fi</td>\n",
       "    </tr>\n",
       "    <tr>\n",
       "      <th>4</th>\n",
       "      <td>Tumbbad</td>\n",
       "      <td>2018</td>\n",
       "      <td>104</td>\n",
       "      <td>Drama, Fantasy, Horror</td>\n",
       "      <td>8.2</td>\n",
       "      <td>Rahi Anil Barve</td>\n",
       "      <td>53297</td>\n",
       "      <td>NaN</td>\n",
       "      <td>Drama</td>\n",
       "      <td>Fantasy</td>\n",
       "      <td>Horror</td>\n",
       "    </tr>\n",
       "  </tbody>\n",
       "</table>\n",
       "</div>"
      ],
      "text/plain": [
       "   Movie Title  Movie Year  Runtime                      Genre  Rating  \\\n",
       "0        Alien        1979      117             Horror, Sci-Fi     8.5   \n",
       "1       Psycho        1960      109  Horror, Mystery, Thriller     8.5   \n",
       "2  The Shining        1980      146              Drama, Horror     8.4   \n",
       "3    The Thing        1982      109    Horror, Mystery, Sci-Fi     8.2   \n",
       "4      Tumbbad        2018      104     Drama, Fantasy, Horror     8.2   \n",
       "\n",
       "           Director    Votes  Gross(millions) genre_1  genre_2   genre_3  \n",
       "0      Ridley Scott   905275            78.90  Horror   Sci-Fi       NaN  \n",
       "1  Alfred Hitchcock   689068            32.00  Horror  Mystery  Thriller  \n",
       "2   Stanley Kubrick  1051582            44.02   Drama   Horror       NaN  \n",
       "3    John Carpenter   439793            13.78  Horror  Mystery    Sci-Fi  \n",
       "4   Rahi Anil Barve    53297              NaN   Drama  Fantasy    Horror  "
      ]
     },
     "execution_count": 50,
     "metadata": {},
     "output_type": "execute_result"
    }
   ],
   "source": [
    "df2.head()"
   ]
  },
  {
   "cell_type": "markdown",
   "metadata": {},
   "source": [
    "### **Remove unnecessary variables and combine datasets**\n",
    "\n",
    "Depending on the datasets, you can also peform the combination before the cleaning steps."
   ]
  },
  {
   "cell_type": "code",
   "execution_count": 51,
   "metadata": {
    "scrolled": true
   },
   "outputs": [
    {
     "data": {
      "text/html": [
       "<div>\n",
       "<style scoped>\n",
       "    .dataframe tbody tr th:only-of-type {\n",
       "        vertical-align: middle;\n",
       "    }\n",
       "\n",
       "    .dataframe tbody tr th {\n",
       "        vertical-align: top;\n",
       "    }\n",
       "\n",
       "    .dataframe thead th {\n",
       "        text-align: right;\n",
       "    }\n",
       "</style>\n",
       "<table border=\"1\" class=\"dataframe\">\n",
       "  <thead>\n",
       "    <tr style=\"text-align: right;\">\n",
       "      <th></th>\n",
       "      <th>name</th>\n",
       "      <th>year</th>\n",
       "      <th>category</th>\n",
       "      <th>rating</th>\n",
       "      <th>metascore</th>\n",
       "      <th>votes</th>\n",
       "      <th>gross(millions)</th>\n",
       "      <th>genre_1</th>\n",
       "      <th>genre_2</th>\n",
       "      <th>genre_3</th>\n",
       "    </tr>\n",
       "  </thead>\n",
       "  <tbody>\n",
       "    <tr>\n",
       "      <th>0</th>\n",
       "      <td>The Shawshank Redemption</td>\n",
       "      <td>1994</td>\n",
       "      <td>Drama</td>\n",
       "      <td>9.3</td>\n",
       "      <td>82</td>\n",
       "      <td>2810128</td>\n",
       "      <td>28.34</td>\n",
       "      <td>Drama</td>\n",
       "      <td>NaN</td>\n",
       "      <td>NaN</td>\n",
       "    </tr>\n",
       "    <tr>\n",
       "      <th>1</th>\n",
       "      <td>The Godfather</td>\n",
       "      <td>1972</td>\n",
       "      <td>Crime, Drama</td>\n",
       "      <td>9.2</td>\n",
       "      <td>100</td>\n",
       "      <td>1958323</td>\n",
       "      <td>134.97</td>\n",
       "      <td>Crime</td>\n",
       "      <td>Drama</td>\n",
       "      <td>NaN</td>\n",
       "    </tr>\n",
       "    <tr>\n",
       "      <th>2</th>\n",
       "      <td>The Dark Knight</td>\n",
       "      <td>2008</td>\n",
       "      <td>Action, Crime, Drama</td>\n",
       "      <td>9.0</td>\n",
       "      <td>84</td>\n",
       "      <td>2791759</td>\n",
       "      <td>534.86</td>\n",
       "      <td>Action</td>\n",
       "      <td>Crime</td>\n",
       "      <td>Drama</td>\n",
       "    </tr>\n",
       "    <tr>\n",
       "      <th>3</th>\n",
       "      <td>Schindler's List</td>\n",
       "      <td>1993</td>\n",
       "      <td>Biography, Drama, History</td>\n",
       "      <td>9.0</td>\n",
       "      <td>95</td>\n",
       "      <td>1412629</td>\n",
       "      <td>96.90</td>\n",
       "      <td>Biography</td>\n",
       "      <td>Drama</td>\n",
       "      <td>History</td>\n",
       "    </tr>\n",
       "    <tr>\n",
       "      <th>4</th>\n",
       "      <td>The Lord of the Rings: The Return of the King</td>\n",
       "      <td>2003</td>\n",
       "      <td>Action, Adventure, Drama</td>\n",
       "      <td>9.0</td>\n",
       "      <td>94</td>\n",
       "      <td>1923739</td>\n",
       "      <td>377.85</td>\n",
       "      <td>Action</td>\n",
       "      <td>Adventure</td>\n",
       "      <td>Drama</td>\n",
       "    </tr>\n",
       "  </tbody>\n",
       "</table>\n",
       "</div>"
      ],
      "text/plain": [
       "                                            name  year  \\\n",
       "0                       The Shawshank Redemption  1994   \n",
       "1                                  The Godfather  1972   \n",
       "2                                The Dark Knight  2008   \n",
       "3                               Schindler's List  1993   \n",
       "4  The Lord of the Rings: The Return of the King  2003   \n",
       "\n",
       "                    category  rating metascore    votes  gross(millions)  \\\n",
       "0                      Drama     9.3        82  2810128            28.34   \n",
       "1               Crime, Drama     9.2       100  1958323           134.97   \n",
       "2       Action, Crime, Drama     9.0        84  2791759           534.86   \n",
       "3  Biography, Drama, History     9.0        95  1412629            96.90   \n",
       "4   Action, Adventure, Drama     9.0        94  1923739           377.85   \n",
       "\n",
       "     genre_1    genre_2  genre_3  \n",
       "0      Drama        NaN      NaN  \n",
       "1      Crime      Drama      NaN  \n",
       "2     Action      Crime    Drama  \n",
       "3  Biography      Drama  History  \n",
       "4     Action  Adventure    Drama  "
      ]
     },
     "execution_count": 51,
     "metadata": {},
     "output_type": "execute_result"
    }
   ],
   "source": [
    "df1.head()"
   ]
  },
  {
   "cell_type": "markdown",
   "metadata": {},
   "source": [
    "Keep:\n",
    "name, year,rating,metascore,votes,gross,genre_1, genre_2, genre_3 <br>\n",
    "Drop:\n",
    "category"
   ]
  },
  {
   "cell_type": "code",
   "execution_count": 52,
   "metadata": {},
   "outputs": [
    {
     "data": {
      "text/html": [
       "<div>\n",
       "<style scoped>\n",
       "    .dataframe tbody tr th:only-of-type {\n",
       "        vertical-align: middle;\n",
       "    }\n",
       "\n",
       "    .dataframe tbody tr th {\n",
       "        vertical-align: top;\n",
       "    }\n",
       "\n",
       "    .dataframe thead th {\n",
       "        text-align: right;\n",
       "    }\n",
       "</style>\n",
       "<table border=\"1\" class=\"dataframe\">\n",
       "  <thead>\n",
       "    <tr style=\"text-align: right;\">\n",
       "      <th></th>\n",
       "      <th>name</th>\n",
       "      <th>year</th>\n",
       "      <th>rating</th>\n",
       "      <th>metascore</th>\n",
       "      <th>votes</th>\n",
       "      <th>gross(millions)</th>\n",
       "      <th>genre_1</th>\n",
       "      <th>genre_2</th>\n",
       "      <th>genre_3</th>\n",
       "    </tr>\n",
       "  </thead>\n",
       "  <tbody>\n",
       "    <tr>\n",
       "      <th>0</th>\n",
       "      <td>The Shawshank Redemption</td>\n",
       "      <td>1994</td>\n",
       "      <td>9.3</td>\n",
       "      <td>82</td>\n",
       "      <td>2810128</td>\n",
       "      <td>28.340000</td>\n",
       "      <td>Drama</td>\n",
       "      <td>NaN</td>\n",
       "      <td>NaN</td>\n",
       "    </tr>\n",
       "    <tr>\n",
       "      <th>1</th>\n",
       "      <td>The Godfather</td>\n",
       "      <td>1972</td>\n",
       "      <td>9.2</td>\n",
       "      <td>100</td>\n",
       "      <td>1958323</td>\n",
       "      <td>134.970000</td>\n",
       "      <td>Crime</td>\n",
       "      <td>Drama</td>\n",
       "      <td>NaN</td>\n",
       "    </tr>\n",
       "    <tr>\n",
       "      <th>2</th>\n",
       "      <td>The Dark Knight</td>\n",
       "      <td>2008</td>\n",
       "      <td>9.0</td>\n",
       "      <td>84</td>\n",
       "      <td>2791759</td>\n",
       "      <td>534.860000</td>\n",
       "      <td>Action</td>\n",
       "      <td>Crime</td>\n",
       "      <td>Drama</td>\n",
       "    </tr>\n",
       "    <tr>\n",
       "      <th>3</th>\n",
       "      <td>Schindler's List</td>\n",
       "      <td>1993</td>\n",
       "      <td>9.0</td>\n",
       "      <td>95</td>\n",
       "      <td>1412629</td>\n",
       "      <td>96.900000</td>\n",
       "      <td>Biography</td>\n",
       "      <td>Drama</td>\n",
       "      <td>History</td>\n",
       "    </tr>\n",
       "    <tr>\n",
       "      <th>4</th>\n",
       "      <td>The Lord of the Rings: The Return of the King</td>\n",
       "      <td>2003</td>\n",
       "      <td>9.0</td>\n",
       "      <td>94</td>\n",
       "      <td>1923739</td>\n",
       "      <td>377.850000</td>\n",
       "      <td>Action</td>\n",
       "      <td>Adventure</td>\n",
       "      <td>Drama</td>\n",
       "    </tr>\n",
       "    <tr>\n",
       "      <th>...</th>\n",
       "      <td>...</td>\n",
       "      <td>...</td>\n",
       "      <td>...</td>\n",
       "      <td>...</td>\n",
       "      <td>...</td>\n",
       "      <td>...</td>\n",
       "      <td>...</td>\n",
       "      <td>...</td>\n",
       "      <td>...</td>\n",
       "    </tr>\n",
       "    <tr>\n",
       "      <th>979</th>\n",
       "      <td>Dark Waters</td>\n",
       "      <td>2019</td>\n",
       "      <td>7.6</td>\n",
       "      <td>73</td>\n",
       "      <td>96392</td>\n",
       "      <td>56.693043</td>\n",
       "      <td>Biography</td>\n",
       "      <td>Drama</td>\n",
       "      <td>History</td>\n",
       "    </tr>\n",
       "    <tr>\n",
       "      <th>981</th>\n",
       "      <td>The Mitchells vs the Machines</td>\n",
       "      <td>2021</td>\n",
       "      <td>7.6</td>\n",
       "      <td>81</td>\n",
       "      <td>121375</td>\n",
       "      <td>130.066154</td>\n",
       "      <td>Animation</td>\n",
       "      <td>Action</td>\n",
       "      <td>Adventure</td>\n",
       "    </tr>\n",
       "    <tr>\n",
       "      <th>982</th>\n",
       "      <td>The Invisible Man</td>\n",
       "      <td>1933</td>\n",
       "      <td>7.6</td>\n",
       "      <td>87</td>\n",
       "      <td>38624</td>\n",
       "      <td>78.900000</td>\n",
       "      <td>Horror</td>\n",
       "      <td>Sci-Fi</td>\n",
       "      <td>NaN</td>\n",
       "    </tr>\n",
       "    <tr>\n",
       "      <th>989</th>\n",
       "      <td>Rebel Without a Cause</td>\n",
       "      <td>1955</td>\n",
       "      <td>7.6</td>\n",
       "      <td>89</td>\n",
       "      <td>95954</td>\n",
       "      <td>29.495395</td>\n",
       "      <td>Drama</td>\n",
       "      <td>NaN</td>\n",
       "      <td>NaN</td>\n",
       "    </tr>\n",
       "    <tr>\n",
       "      <th>999</th>\n",
       "      <td>Cell 211</td>\n",
       "      <td>2009</td>\n",
       "      <td>7.6</td>\n",
       "      <td>NaN</td>\n",
       "      <td>69827</td>\n",
       "      <td>94.518889</td>\n",
       "      <td>Action</td>\n",
       "      <td>Crime</td>\n",
       "      <td>Drama</td>\n",
       "    </tr>\n",
       "  </tbody>\n",
       "</table>\n",
       "<p>1000 rows × 9 columns</p>\n",
       "</div>"
      ],
      "text/plain": [
       "                                              name  year  rating metascore  \\\n",
       "0                         The Shawshank Redemption  1994     9.3        82   \n",
       "1                                    The Godfather  1972     9.2       100   \n",
       "2                                  The Dark Knight  2008     9.0        84   \n",
       "3                                 Schindler's List  1993     9.0        95   \n",
       "4    The Lord of the Rings: The Return of the King  2003     9.0        94   \n",
       "..                                             ...   ...     ...       ...   \n",
       "979                                    Dark Waters  2019     7.6        73   \n",
       "981                  The Mitchells vs the Machines  2021     7.6        81   \n",
       "982                              The Invisible Man  1933     7.6        87   \n",
       "989                          Rebel Without a Cause  1955     7.6        89   \n",
       "999                                       Cell 211  2009     7.6       NaN   \n",
       "\n",
       "       votes  gross(millions)    genre_1    genre_2    genre_3  \n",
       "0    2810128        28.340000      Drama        NaN        NaN  \n",
       "1    1958323       134.970000      Crime      Drama        NaN  \n",
       "2    2791759       534.860000     Action      Crime      Drama  \n",
       "3    1412629        96.900000  Biography      Drama    History  \n",
       "4    1923739       377.850000     Action  Adventure      Drama  \n",
       "..       ...              ...        ...        ...        ...  \n",
       "979    96392        56.693043  Biography      Drama    History  \n",
       "981   121375       130.066154  Animation     Action  Adventure  \n",
       "982    38624        78.900000     Horror     Sci-Fi        NaN  \n",
       "989    95954        29.495395      Drama        NaN        NaN  \n",
       "999    69827        94.518889     Action      Crime      Drama  \n",
       "\n",
       "[1000 rows x 9 columns]"
      ]
     },
     "execution_count": 52,
     "metadata": {},
     "output_type": "execute_result"
    }
   ],
   "source": [
    "df1.drop('category',axis=1,inplace=True)\n",
    "df1"
   ]
  },
  {
   "cell_type": "code",
   "execution_count": 53,
   "metadata": {},
   "outputs": [
    {
     "data": {
      "text/html": [
       "<div>\n",
       "<style scoped>\n",
       "    .dataframe tbody tr th:only-of-type {\n",
       "        vertical-align: middle;\n",
       "    }\n",
       "\n",
       "    .dataframe tbody tr th {\n",
       "        vertical-align: top;\n",
       "    }\n",
       "\n",
       "    .dataframe thead th {\n",
       "        text-align: right;\n",
       "    }\n",
       "</style>\n",
       "<table border=\"1\" class=\"dataframe\">\n",
       "  <thead>\n",
       "    <tr style=\"text-align: right;\">\n",
       "      <th></th>\n",
       "      <th>Movie Title</th>\n",
       "      <th>Movie Year</th>\n",
       "      <th>Runtime</th>\n",
       "      <th>Genre</th>\n",
       "      <th>Rating</th>\n",
       "      <th>Director</th>\n",
       "      <th>Votes</th>\n",
       "      <th>Gross(millions)</th>\n",
       "      <th>genre_1</th>\n",
       "      <th>genre_2</th>\n",
       "      <th>genre_3</th>\n",
       "    </tr>\n",
       "  </thead>\n",
       "  <tbody>\n",
       "    <tr>\n",
       "      <th>0</th>\n",
       "      <td>Alien</td>\n",
       "      <td>1979</td>\n",
       "      <td>117</td>\n",
       "      <td>Horror, Sci-Fi</td>\n",
       "      <td>8.5</td>\n",
       "      <td>Ridley Scott</td>\n",
       "      <td>905275</td>\n",
       "      <td>78.90</td>\n",
       "      <td>Horror</td>\n",
       "      <td>Sci-Fi</td>\n",
       "      <td>NaN</td>\n",
       "    </tr>\n",
       "    <tr>\n",
       "      <th>1</th>\n",
       "      <td>Psycho</td>\n",
       "      <td>1960</td>\n",
       "      <td>109</td>\n",
       "      <td>Horror, Mystery, Thriller</td>\n",
       "      <td>8.5</td>\n",
       "      <td>Alfred Hitchcock</td>\n",
       "      <td>689068</td>\n",
       "      <td>32.00</td>\n",
       "      <td>Horror</td>\n",
       "      <td>Mystery</td>\n",
       "      <td>Thriller</td>\n",
       "    </tr>\n",
       "    <tr>\n",
       "      <th>2</th>\n",
       "      <td>The Shining</td>\n",
       "      <td>1980</td>\n",
       "      <td>146</td>\n",
       "      <td>Drama, Horror</td>\n",
       "      <td>8.4</td>\n",
       "      <td>Stanley Kubrick</td>\n",
       "      <td>1051582</td>\n",
       "      <td>44.02</td>\n",
       "      <td>Drama</td>\n",
       "      <td>Horror</td>\n",
       "      <td>NaN</td>\n",
       "    </tr>\n",
       "    <tr>\n",
       "      <th>3</th>\n",
       "      <td>The Thing</td>\n",
       "      <td>1982</td>\n",
       "      <td>109</td>\n",
       "      <td>Horror, Mystery, Sci-Fi</td>\n",
       "      <td>8.2</td>\n",
       "      <td>John Carpenter</td>\n",
       "      <td>439793</td>\n",
       "      <td>13.78</td>\n",
       "      <td>Horror</td>\n",
       "      <td>Mystery</td>\n",
       "      <td>Sci-Fi</td>\n",
       "    </tr>\n",
       "    <tr>\n",
       "      <th>4</th>\n",
       "      <td>Tumbbad</td>\n",
       "      <td>2018</td>\n",
       "      <td>104</td>\n",
       "      <td>Drama, Fantasy, Horror</td>\n",
       "      <td>8.2</td>\n",
       "      <td>Rahi Anil Barve</td>\n",
       "      <td>53297</td>\n",
       "      <td>NaN</td>\n",
       "      <td>Drama</td>\n",
       "      <td>Fantasy</td>\n",
       "      <td>Horror</td>\n",
       "    </tr>\n",
       "  </tbody>\n",
       "</table>\n",
       "</div>"
      ],
      "text/plain": [
       "   Movie Title  Movie Year  Runtime                      Genre  Rating  \\\n",
       "0        Alien        1979      117             Horror, Sci-Fi     8.5   \n",
       "1       Psycho        1960      109  Horror, Mystery, Thriller     8.5   \n",
       "2  The Shining        1980      146              Drama, Horror     8.4   \n",
       "3    The Thing        1982      109    Horror, Mystery, Sci-Fi     8.2   \n",
       "4      Tumbbad        2018      104     Drama, Fantasy, Horror     8.2   \n",
       "\n",
       "           Director    Votes  Gross(millions) genre_1  genre_2   genre_3  \n",
       "0      Ridley Scott   905275            78.90  Horror   Sci-Fi       NaN  \n",
       "1  Alfred Hitchcock   689068            32.00  Horror  Mystery  Thriller  \n",
       "2   Stanley Kubrick  1051582            44.02   Drama   Horror       NaN  \n",
       "3    John Carpenter   439793            13.78  Horror  Mystery    Sci-Fi  \n",
       "4   Rahi Anil Barve    53297              NaN   Drama  Fantasy    Horror  "
      ]
     },
     "execution_count": 53,
     "metadata": {},
     "output_type": "execute_result"
    }
   ],
   "source": [
    "df2.head()"
   ]
  },
  {
   "cell_type": "markdown",
   "metadata": {},
   "source": [
    "Keep:\n",
    "Title, Year, Director<br>\n",
    "Drop:\n",
    "Runtime, Votes, Rating, Votes, Gross, genre_1, genre_2, genre_3 "
   ]
  },
  {
   "cell_type": "code",
   "execution_count": 54,
   "metadata": {},
   "outputs": [
    {
     "data": {
      "text/html": [
       "<div>\n",
       "<style scoped>\n",
       "    .dataframe tbody tr th:only-of-type {\n",
       "        vertical-align: middle;\n",
       "    }\n",
       "\n",
       "    .dataframe tbody tr th {\n",
       "        vertical-align: top;\n",
       "    }\n",
       "\n",
       "    .dataframe thead th {\n",
       "        text-align: right;\n",
       "    }\n",
       "</style>\n",
       "<table border=\"1\" class=\"dataframe\">\n",
       "  <thead>\n",
       "    <tr style=\"text-align: right;\">\n",
       "      <th></th>\n",
       "      <th>Movie Title</th>\n",
       "      <th>Movie Year</th>\n",
       "      <th>Director</th>\n",
       "    </tr>\n",
       "  </thead>\n",
       "  <tbody>\n",
       "    <tr>\n",
       "      <th>0</th>\n",
       "      <td>Alien</td>\n",
       "      <td>1979</td>\n",
       "      <td>Ridley Scott</td>\n",
       "    </tr>\n",
       "    <tr>\n",
       "      <th>1</th>\n",
       "      <td>Psycho</td>\n",
       "      <td>1960</td>\n",
       "      <td>Alfred Hitchcock</td>\n",
       "    </tr>\n",
       "    <tr>\n",
       "      <th>2</th>\n",
       "      <td>The Shining</td>\n",
       "      <td>1980</td>\n",
       "      <td>Stanley Kubrick</td>\n",
       "    </tr>\n",
       "    <tr>\n",
       "      <th>3</th>\n",
       "      <td>The Thing</td>\n",
       "      <td>1982</td>\n",
       "      <td>John Carpenter</td>\n",
       "    </tr>\n",
       "    <tr>\n",
       "      <th>4</th>\n",
       "      <td>Tumbbad</td>\n",
       "      <td>2018</td>\n",
       "      <td>Rahi Anil Barve</td>\n",
       "    </tr>\n",
       "  </tbody>\n",
       "</table>\n",
       "</div>"
      ],
      "text/plain": [
       "   Movie Title  Movie Year          Director\n",
       "0        Alien        1979      Ridley Scott\n",
       "1       Psycho        1960  Alfred Hitchcock\n",
       "2  The Shining        1980   Stanley Kubrick\n",
       "3    The Thing        1982    John Carpenter\n",
       "4      Tumbbad        2018   Rahi Anil Barve"
      ]
     },
     "execution_count": 54,
     "metadata": {},
     "output_type": "execute_result"
    }
   ],
   "source": [
    "df2=df2.drop(['Runtime','Genre','Gross(millions)','Rating','Votes',\n",
    "              'Gross(millions)','genre_1','genre_2','genre_3'],axis=1)\n",
    "df2.head()"
   ]
  },
  {
   "cell_type": "code",
   "execution_count": 55,
   "metadata": {
    "scrolled": true
   },
   "outputs": [],
   "source": [
    "df_top1000_horror=df1.merge(df2,how='inner',left_on='name', right_on='Movie Title')\n",
    "df_left=df1.merge(df2,how='left',left_on='name', right_on='Movie Title')"
   ]
  },
  {
   "cell_type": "code",
   "execution_count": 56,
   "metadata": {
    "scrolled": false
   },
   "outputs": [
    {
     "data": {
      "text/html": [
       "<div>\n",
       "<style scoped>\n",
       "    .dataframe tbody tr th:only-of-type {\n",
       "        vertical-align: middle;\n",
       "    }\n",
       "\n",
       "    .dataframe tbody tr th {\n",
       "        vertical-align: top;\n",
       "    }\n",
       "\n",
       "    .dataframe thead th {\n",
       "        text-align: right;\n",
       "    }\n",
       "</style>\n",
       "<table border=\"1\" class=\"dataframe\">\n",
       "  <thead>\n",
       "    <tr style=\"text-align: right;\">\n",
       "      <th></th>\n",
       "      <th>name</th>\n",
       "      <th>year</th>\n",
       "      <th>rating</th>\n",
       "      <th>metascore</th>\n",
       "      <th>votes</th>\n",
       "      <th>gross(millions)</th>\n",
       "      <th>genre_1</th>\n",
       "      <th>genre_2</th>\n",
       "      <th>genre_3</th>\n",
       "      <th>Movie Title</th>\n",
       "      <th>Movie Year</th>\n",
       "      <th>Director</th>\n",
       "    </tr>\n",
       "  </thead>\n",
       "  <tbody>\n",
       "    <tr>\n",
       "      <th>0</th>\n",
       "      <td>Alien</td>\n",
       "      <td>1979</td>\n",
       "      <td>8.5</td>\n",
       "      <td>89</td>\n",
       "      <td>923281</td>\n",
       "      <td>78.90</td>\n",
       "      <td>Horror</td>\n",
       "      <td>Sci-Fi</td>\n",
       "      <td>NaN</td>\n",
       "      <td>Alien</td>\n",
       "      <td>1979</td>\n",
       "      <td>Ridley Scott</td>\n",
       "    </tr>\n",
       "    <tr>\n",
       "      <th>1</th>\n",
       "      <td>Psycho</td>\n",
       "      <td>1960</td>\n",
       "      <td>8.5</td>\n",
       "      <td>97</td>\n",
       "      <td>701679</td>\n",
       "      <td>32.00</td>\n",
       "      <td>Horror</td>\n",
       "      <td>Mystery</td>\n",
       "      <td>Thriller</td>\n",
       "      <td>Psycho</td>\n",
       "      <td>1960</td>\n",
       "      <td>Alfred Hitchcock</td>\n",
       "    </tr>\n",
       "    <tr>\n",
       "      <th>2</th>\n",
       "      <td>Psycho</td>\n",
       "      <td>1960</td>\n",
       "      <td>8.5</td>\n",
       "      <td>97</td>\n",
       "      <td>701679</td>\n",
       "      <td>32.00</td>\n",
       "      <td>Horror</td>\n",
       "      <td>Mystery</td>\n",
       "      <td>Thriller</td>\n",
       "      <td>Psycho</td>\n",
       "      <td>1998</td>\n",
       "      <td>Gus Van Sant</td>\n",
       "    </tr>\n",
       "    <tr>\n",
       "      <th>3</th>\n",
       "      <td>The Shining</td>\n",
       "      <td>1980</td>\n",
       "      <td>8.4</td>\n",
       "      <td>66</td>\n",
       "      <td>1075121</td>\n",
       "      <td>44.02</td>\n",
       "      <td>Drama</td>\n",
       "      <td>Horror</td>\n",
       "      <td>NaN</td>\n",
       "      <td>The Shining</td>\n",
       "      <td>1980</td>\n",
       "      <td>Stanley Kubrick</td>\n",
       "    </tr>\n",
       "    <tr>\n",
       "      <th>4</th>\n",
       "      <td>The Thing</td>\n",
       "      <td>1982</td>\n",
       "      <td>8.2</td>\n",
       "      <td>57</td>\n",
       "      <td>450236</td>\n",
       "      <td>13.78</td>\n",
       "      <td>Horror</td>\n",
       "      <td>Mystery</td>\n",
       "      <td>Sci-Fi</td>\n",
       "      <td>The Thing</td>\n",
       "      <td>1982</td>\n",
       "      <td>John Carpenter</td>\n",
       "    </tr>\n",
       "  </tbody>\n",
       "</table>\n",
       "</div>"
      ],
      "text/plain": [
       "          name  year  rating metascore    votes  gross(millions) genre_1  \\\n",
       "0        Alien  1979     8.5        89   923281            78.90  Horror   \n",
       "1       Psycho  1960     8.5        97   701679            32.00  Horror   \n",
       "2       Psycho  1960     8.5        97   701679            32.00  Horror   \n",
       "3  The Shining  1980     8.4        66  1075121            44.02   Drama   \n",
       "4    The Thing  1982     8.2        57   450236            13.78  Horror   \n",
       "\n",
       "   genre_2   genre_3  Movie Title  Movie Year          Director  \n",
       "0   Sci-Fi       NaN        Alien        1979      Ridley Scott  \n",
       "1  Mystery  Thriller       Psycho        1960  Alfred Hitchcock  \n",
       "2  Mystery  Thriller       Psycho        1998      Gus Van Sant  \n",
       "3   Horror       NaN  The Shining        1980   Stanley Kubrick  \n",
       "4  Mystery    Sci-Fi    The Thing        1982    John Carpenter  "
      ]
     },
     "execution_count": 56,
     "metadata": {},
     "output_type": "execute_result"
    }
   ],
   "source": [
    "df_top1000_horror.head()"
   ]
  },
  {
   "cell_type": "code",
   "execution_count": 57,
   "metadata": {
    "scrolled": false
   },
   "outputs": [
    {
     "name": "stdout",
     "output_type": "stream",
     "text": [
      "(1000, 9)\n",
      "(836, 3)\n",
      "(40, 12)\n"
     ]
    }
   ],
   "source": [
    "print(df1.shape)\n",
    "print(df2.shape)\n",
    "print(df_top1000_horror.shape)"
   ]
  },
  {
   "cell_type": "code",
   "execution_count": 58,
   "metadata": {},
   "outputs": [
    {
     "data": {
      "text/plain": [
       "7"
      ]
     },
     "execution_count": 58,
     "metadata": {},
     "output_type": "execute_result"
    }
   ],
   "source": [
    "df_top1000_horror.name.duplicated().sum()"
   ]
  },
  {
   "cell_type": "code",
   "execution_count": 59,
   "metadata": {},
   "outputs": [],
   "source": [
    "# Drop same name but different year\n",
    "df_top1000_horror = df_top1000_horror[~(df_top1000_horror['year']!=df_top1000_horror['Movie Year'])]"
   ]
  },
  {
   "cell_type": "code",
   "execution_count": 60,
   "metadata": {},
   "outputs": [
    {
     "data": {
      "text/plain": [
       "(32, 12)"
      ]
     },
     "execution_count": 60,
     "metadata": {},
     "output_type": "execute_result"
    }
   ],
   "source": [
    "df_top1000_horror.shape"
   ]
  },
  {
   "cell_type": "code",
   "execution_count": 61,
   "metadata": {},
   "outputs": [
    {
     "data": {
      "text/html": [
       "<div>\n",
       "<style scoped>\n",
       "    .dataframe tbody tr th:only-of-type {\n",
       "        vertical-align: middle;\n",
       "    }\n",
       "\n",
       "    .dataframe tbody tr th {\n",
       "        vertical-align: top;\n",
       "    }\n",
       "\n",
       "    .dataframe thead th {\n",
       "        text-align: right;\n",
       "    }\n",
       "</style>\n",
       "<table border=\"1\" class=\"dataframe\">\n",
       "  <thead>\n",
       "    <tr style=\"text-align: right;\">\n",
       "      <th></th>\n",
       "      <th>name</th>\n",
       "      <th>year</th>\n",
       "      <th>rating</th>\n",
       "      <th>metascore</th>\n",
       "      <th>votes</th>\n",
       "      <th>gross(millions)</th>\n",
       "      <th>genre_1</th>\n",
       "      <th>genre_2</th>\n",
       "      <th>genre_3</th>\n",
       "      <th>Movie Title</th>\n",
       "      <th>Movie Year</th>\n",
       "      <th>Director</th>\n",
       "    </tr>\n",
       "  </thead>\n",
       "  <tbody>\n",
       "    <tr>\n",
       "      <th>0</th>\n",
       "      <td>Alien</td>\n",
       "      <td>1979</td>\n",
       "      <td>8.5</td>\n",
       "      <td>89</td>\n",
       "      <td>923281</td>\n",
       "      <td>78.90</td>\n",
       "      <td>Horror</td>\n",
       "      <td>Sci-Fi</td>\n",
       "      <td>NaN</td>\n",
       "      <td>Alien</td>\n",
       "      <td>1979</td>\n",
       "      <td>Ridley Scott</td>\n",
       "    </tr>\n",
       "    <tr>\n",
       "      <th>1</th>\n",
       "      <td>Psycho</td>\n",
       "      <td>1960</td>\n",
       "      <td>8.5</td>\n",
       "      <td>97</td>\n",
       "      <td>701679</td>\n",
       "      <td>32.00</td>\n",
       "      <td>Horror</td>\n",
       "      <td>Mystery</td>\n",
       "      <td>Thriller</td>\n",
       "      <td>Psycho</td>\n",
       "      <td>1960</td>\n",
       "      <td>Alfred Hitchcock</td>\n",
       "    </tr>\n",
       "    <tr>\n",
       "      <th>3</th>\n",
       "      <td>The Shining</td>\n",
       "      <td>1980</td>\n",
       "      <td>8.4</td>\n",
       "      <td>66</td>\n",
       "      <td>1075121</td>\n",
       "      <td>44.02</td>\n",
       "      <td>Drama</td>\n",
       "      <td>Horror</td>\n",
       "      <td>NaN</td>\n",
       "      <td>The Shining</td>\n",
       "      <td>1980</td>\n",
       "      <td>Stanley Kubrick</td>\n",
       "    </tr>\n",
       "    <tr>\n",
       "      <th>4</th>\n",
       "      <td>The Thing</td>\n",
       "      <td>1982</td>\n",
       "      <td>8.2</td>\n",
       "      <td>57</td>\n",
       "      <td>450236</td>\n",
       "      <td>13.78</td>\n",
       "      <td>Horror</td>\n",
       "      <td>Mystery</td>\n",
       "      <td>Sci-Fi</td>\n",
       "      <td>The Thing</td>\n",
       "      <td>1982</td>\n",
       "      <td>John Carpenter</td>\n",
       "    </tr>\n",
       "    <tr>\n",
       "      <th>5</th>\n",
       "      <td>The Exorcist</td>\n",
       "      <td>1973</td>\n",
       "      <td>8.1</td>\n",
       "      <td>82</td>\n",
       "      <td>439076</td>\n",
       "      <td>232.91</td>\n",
       "      <td>Horror</td>\n",
       "      <td>NaN</td>\n",
       "      <td>NaN</td>\n",
       "      <td>The Exorcist</td>\n",
       "      <td>1973</td>\n",
       "      <td>William Friedkin</td>\n",
       "    </tr>\n",
       "  </tbody>\n",
       "</table>\n",
       "</div>"
      ],
      "text/plain": [
       "           name  year  rating metascore    votes  gross(millions) genre_1  \\\n",
       "0         Alien  1979     8.5        89   923281            78.90  Horror   \n",
       "1        Psycho  1960     8.5        97   701679            32.00  Horror   \n",
       "3   The Shining  1980     8.4        66  1075121            44.02   Drama   \n",
       "4     The Thing  1982     8.2        57   450236            13.78  Horror   \n",
       "5  The Exorcist  1973     8.1        82   439076           232.91  Horror   \n",
       "\n",
       "   genre_2   genre_3   Movie Title  Movie Year          Director  \n",
       "0   Sci-Fi       NaN         Alien        1979      Ridley Scott  \n",
       "1  Mystery  Thriller        Psycho        1960  Alfred Hitchcock  \n",
       "3   Horror       NaN   The Shining        1980   Stanley Kubrick  \n",
       "4  Mystery    Sci-Fi     The Thing        1982    John Carpenter  \n",
       "5      NaN       NaN  The Exorcist        1973  William Friedkin  "
      ]
     },
     "execution_count": 61,
     "metadata": {},
     "output_type": "execute_result"
    }
   ],
   "source": [
    "df_top1000_horror.head()"
   ]
  },
  {
   "cell_type": "code",
   "execution_count": 62,
   "metadata": {},
   "outputs": [],
   "source": [
    "df_top1000_horror=df_top1000_horror.drop(['Movie Title','Movie Year'],axis=1)"
   ]
  },
  {
   "cell_type": "code",
   "execution_count": null,
   "metadata": {},
   "outputs": [],
   "source": []
  },
  {
   "cell_type": "markdown",
   "metadata": {
    "id": "F42urHuzttjF"
   },
   "source": [
    "## 4. Update your data store\n",
    "Update your local database/data store with the cleaned data, following best practices for storing your cleaned data:\n",
    "\n",
    "- Must maintain different instances / versions of data (raw and cleaned data)\n",
    "- Must name the dataset files informatively\n",
    "- Ensure both the raw and cleaned data is saved to your database/data store"
   ]
  },
  {
   "cell_type": "code",
   "execution_count": 63,
   "metadata": {},
   "outputs": [
    {
     "data": {
      "text/html": [
       "<div>\n",
       "<style scoped>\n",
       "    .dataframe tbody tr th:only-of-type {\n",
       "        vertical-align: middle;\n",
       "    }\n",
       "\n",
       "    .dataframe tbody tr th {\n",
       "        vertical-align: top;\n",
       "    }\n",
       "\n",
       "    .dataframe thead th {\n",
       "        text-align: right;\n",
       "    }\n",
       "</style>\n",
       "<table border=\"1\" class=\"dataframe\">\n",
       "  <thead>\n",
       "    <tr style=\"text-align: right;\">\n",
       "      <th></th>\n",
       "      <th>name</th>\n",
       "      <th>year</th>\n",
       "      <th>rating</th>\n",
       "      <th>metascore</th>\n",
       "      <th>votes</th>\n",
       "      <th>gross(millions)</th>\n",
       "      <th>genre_1</th>\n",
       "      <th>genre_2</th>\n",
       "      <th>genre_3</th>\n",
       "      <th>Director</th>\n",
       "    </tr>\n",
       "  </thead>\n",
       "  <tbody>\n",
       "    <tr>\n",
       "      <th>0</th>\n",
       "      <td>Alien</td>\n",
       "      <td>1979</td>\n",
       "      <td>8.5</td>\n",
       "      <td>89.0</td>\n",
       "      <td>923281</td>\n",
       "      <td>78.90</td>\n",
       "      <td>Horror</td>\n",
       "      <td>Sci-Fi</td>\n",
       "      <td>NaN</td>\n",
       "      <td>Ridley Scott</td>\n",
       "    </tr>\n",
       "    <tr>\n",
       "      <th>1</th>\n",
       "      <td>Psycho</td>\n",
       "      <td>1960</td>\n",
       "      <td>8.5</td>\n",
       "      <td>97.0</td>\n",
       "      <td>701679</td>\n",
       "      <td>32.00</td>\n",
       "      <td>Horror</td>\n",
       "      <td>Mystery</td>\n",
       "      <td>Thriller</td>\n",
       "      <td>Alfred Hitchcock</td>\n",
       "    </tr>\n",
       "    <tr>\n",
       "      <th>3</th>\n",
       "      <td>The Shining</td>\n",
       "      <td>1980</td>\n",
       "      <td>8.4</td>\n",
       "      <td>66.0</td>\n",
       "      <td>1075121</td>\n",
       "      <td>44.02</td>\n",
       "      <td>Drama</td>\n",
       "      <td>Horror</td>\n",
       "      <td>NaN</td>\n",
       "      <td>Stanley Kubrick</td>\n",
       "    </tr>\n",
       "    <tr>\n",
       "      <th>4</th>\n",
       "      <td>The Thing</td>\n",
       "      <td>1982</td>\n",
       "      <td>8.2</td>\n",
       "      <td>57.0</td>\n",
       "      <td>450236</td>\n",
       "      <td>13.78</td>\n",
       "      <td>Horror</td>\n",
       "      <td>Mystery</td>\n",
       "      <td>Sci-Fi</td>\n",
       "      <td>John Carpenter</td>\n",
       "    </tr>\n",
       "    <tr>\n",
       "      <th>5</th>\n",
       "      <td>The Exorcist</td>\n",
       "      <td>1973</td>\n",
       "      <td>8.1</td>\n",
       "      <td>82.0</td>\n",
       "      <td>439076</td>\n",
       "      <td>232.91</td>\n",
       "      <td>Horror</td>\n",
       "      <td>NaN</td>\n",
       "      <td>NaN</td>\n",
       "      <td>William Friedkin</td>\n",
       "    </tr>\n",
       "  </tbody>\n",
       "</table>\n",
       "</div>"
      ],
      "text/plain": [
       "           name  year  rating  metascore    votes  gross(millions) genre_1  \\\n",
       "0         Alien  1979     8.5       89.0   923281            78.90  Horror   \n",
       "1        Psycho  1960     8.5       97.0   701679            32.00  Horror   \n",
       "3   The Shining  1980     8.4       66.0  1075121            44.02   Drama   \n",
       "4     The Thing  1982     8.2       57.0   450236            13.78  Horror   \n",
       "5  The Exorcist  1973     8.1       82.0   439076           232.91  Horror   \n",
       "\n",
       "   genre_2   genre_3          Director  \n",
       "0   Sci-Fi       NaN      Ridley Scott  \n",
       "1  Mystery  Thriller  Alfred Hitchcock  \n",
       "3   Horror       NaN   Stanley Kubrick  \n",
       "4  Mystery    Sci-Fi    John Carpenter  \n",
       "5      NaN       NaN  William Friedkin  "
      ]
     },
     "execution_count": 63,
     "metadata": {},
     "output_type": "execute_result"
    }
   ],
   "source": [
    "# save the combined df\n",
    "df_top1000_horror.to_csv('master_cleaned.csv')\n",
    "df = pd.read_csv('master_cleaned.csv',index_col=0)\n",
    "df.head()"
   ]
  },
  {
   "cell_type": "code",
   "execution_count": null,
   "metadata": {},
   "outputs": [],
   "source": []
  },
  {
   "cell_type": "markdown",
   "metadata": {
    "id": "cGy_yddGtzhM"
   },
   "source": [
    "## 5. Answer the research question\n",
    "\n",
    "### **5.1:** Define and answer the research question "
   ]
  },
  {
   "cell_type": "markdown",
   "metadata": {
    "id": "gi6swhjSYqu2"
   },
   "source": [
    "Questions: \n",
    "- Among the top 1000 movies, what percenetage of movies are horror movies? What's the Gross revenue of horror movies compare to other genres?\n",
    "- Which Director contributes the most to the gross revenue in top 1000 movies? Does he/she also has the most number of horror movies selected in top 1000 movies?\n",
    "- Is there any trend in Horror movie revenue over year in the top 1000 movies?"
   ]
  },
  {
   "cell_type": "markdown",
   "metadata": {},
   "source": [
    "We will use **df1 (top 1000 movie dataset)** and **df (merged dataset)** datasets to answer those questions."
   ]
  },
  {
   "cell_type": "code",
   "execution_count": 64,
   "metadata": {},
   "outputs": [],
   "source": [
    "# Get movies based on specific genre\n",
    "def get_genre_df1(x):\n",
    "    df1_genry = df1[(df1['genre_1']==x)|(df1['genre_2']==x)|(df1['genre_3']==x)]\n",
    "    return df1_genry\n"
   ]
  },
  {
   "cell_type": "code",
   "execution_count": 65,
   "metadata": {},
   "outputs": [
    {
     "data": {
      "text/html": [
       "<div>\n",
       "<style scoped>\n",
       "    .dataframe tbody tr th:only-of-type {\n",
       "        vertical-align: middle;\n",
       "    }\n",
       "\n",
       "    .dataframe tbody tr th {\n",
       "        vertical-align: top;\n",
       "    }\n",
       "\n",
       "    .dataframe thead th {\n",
       "        text-align: right;\n",
       "    }\n",
       "</style>\n",
       "<table border=\"1\" class=\"dataframe\">\n",
       "  <thead>\n",
       "    <tr style=\"text-align: right;\">\n",
       "      <th></th>\n",
       "      <th>name</th>\n",
       "      <th>year</th>\n",
       "      <th>rating</th>\n",
       "      <th>metascore</th>\n",
       "      <th>votes</th>\n",
       "      <th>gross(millions)</th>\n",
       "      <th>genre_1</th>\n",
       "      <th>genre_2</th>\n",
       "      <th>genre_3</th>\n",
       "    </tr>\n",
       "  </thead>\n",
       "  <tbody>\n",
       "    <tr>\n",
       "      <th>38</th>\n",
       "      <td>Alien</td>\n",
       "      <td>1979</td>\n",
       "      <td>8.5</td>\n",
       "      <td>89</td>\n",
       "      <td>923281</td>\n",
       "      <td>78.90</td>\n",
       "      <td>Horror</td>\n",
       "      <td>Sci-Fi</td>\n",
       "      <td>NaN</td>\n",
       "    </tr>\n",
       "    <tr>\n",
       "      <th>46</th>\n",
       "      <td>Psycho</td>\n",
       "      <td>1960</td>\n",
       "      <td>8.5</td>\n",
       "      <td>97</td>\n",
       "      <td>701679</td>\n",
       "      <td>32.00</td>\n",
       "      <td>Horror</td>\n",
       "      <td>Mystery</td>\n",
       "      <td>Thriller</td>\n",
       "    </tr>\n",
       "    <tr>\n",
       "      <th>61</th>\n",
       "      <td>The Shining</td>\n",
       "      <td>1980</td>\n",
       "      <td>8.4</td>\n",
       "      <td>66</td>\n",
       "      <td>1075121</td>\n",
       "      <td>44.02</td>\n",
       "      <td>Drama</td>\n",
       "      <td>Horror</td>\n",
       "      <td>NaN</td>\n",
       "    </tr>\n",
       "    <tr>\n",
       "      <th>139</th>\n",
       "      <td>The Thing</td>\n",
       "      <td>1982</td>\n",
       "      <td>8.2</td>\n",
       "      <td>57</td>\n",
       "      <td>450236</td>\n",
       "      <td>13.78</td>\n",
       "      <td>Horror</td>\n",
       "      <td>Mystery</td>\n",
       "      <td>Sci-Fi</td>\n",
       "    </tr>\n",
       "    <tr>\n",
       "      <th>207</th>\n",
       "      <td>The Exorcist</td>\n",
       "      <td>1973</td>\n",
       "      <td>8.1</td>\n",
       "      <td>82</td>\n",
       "      <td>439076</td>\n",
       "      <td>232.91</td>\n",
       "      <td>Horror</td>\n",
       "      <td>NaN</td>\n",
       "      <td>NaN</td>\n",
       "    </tr>\n",
       "  </tbody>\n",
       "</table>\n",
       "</div>"
      ],
      "text/plain": [
       "             name  year  rating metascore    votes  gross(millions) genre_1  \\\n",
       "38          Alien  1979     8.5        89   923281            78.90  Horror   \n",
       "46         Psycho  1960     8.5        97   701679            32.00  Horror   \n",
       "61    The Shining  1980     8.4        66  1075121            44.02   Drama   \n",
       "139     The Thing  1982     8.2        57   450236            13.78  Horror   \n",
       "207  The Exorcist  1973     8.1        82   439076           232.91  Horror   \n",
       "\n",
       "     genre_2   genre_3  \n",
       "38    Sci-Fi       NaN  \n",
       "46   Mystery  Thriller  \n",
       "61    Horror       NaN  \n",
       "139  Mystery    Sci-Fi  \n",
       "207      NaN       NaN  "
      ]
     },
     "execution_count": 65,
     "metadata": {},
     "output_type": "execute_result"
    }
   ],
   "source": [
    "get_genre_df1('Horror').head()"
   ]
  },
  {
   "cell_type": "code",
   "execution_count": 66,
   "metadata": {},
   "outputs": [],
   "source": [
    "Rate={}\n",
    "Vote={}\n",
    "Gross={}\n",
    "\n",
    "for x in genre_all:\n",
    "    Rate[x] = get_genre_df1(x)['rating'].mean()\n",
    "    Vote[x] = get_genre_df1(x)['votes'].mean()\n",
    "    Gross[x] = get_genre_df1(x)['gross(millions)'].mean()\n",
    "\n",
    "Rate_df = pd.DataFrame.from_dict(Rate,orient='index',columns=['Rate']).transpose()\n",
    "Vote_df = pd.DataFrame.from_dict(Vote,orient='index',columns=['Votes']).transpose()\n",
    "Gross_df =  pd.DataFrame.from_dict(Gross,orient='index',columns=['Gross']).transpose()\n"
   ]
  },
  {
   "cell_type": "code",
   "execution_count": 67,
   "metadata": {},
   "outputs": [],
   "source": [
    "Rate_df2 = Rate_df.transpose().reset_index()\n",
    "Vote_df2 = Vote_df.transpose().reset_index()\n",
    "Gross_df2 = Gross_df.transpose().reset_index()"
   ]
  },
  {
   "cell_type": "code",
   "execution_count": 68,
   "metadata": {
    "scrolled": false
   },
   "outputs": [
    {
     "data": {
      "text/html": [
       "<div>\n",
       "<style scoped>\n",
       "    .dataframe tbody tr th:only-of-type {\n",
       "        vertical-align: middle;\n",
       "    }\n",
       "\n",
       "    .dataframe tbody tr th {\n",
       "        vertical-align: top;\n",
       "    }\n",
       "\n",
       "    .dataframe thead th {\n",
       "        text-align: right;\n",
       "    }\n",
       "</style>\n",
       "<table border=\"1\" class=\"dataframe\">\n",
       "  <thead>\n",
       "    <tr style=\"text-align: right;\">\n",
       "      <th></th>\n",
       "      <th>index</th>\n",
       "      <th>Rate</th>\n",
       "      <th>Votes</th>\n",
       "      <th>Gross</th>\n",
       "    </tr>\n",
       "  </thead>\n",
       "  <tbody>\n",
       "    <tr>\n",
       "      <th>0</th>\n",
       "      <td>Drama</td>\n",
       "      <td>7.979783</td>\n",
       "      <td>279366.446404</td>\n",
       "      <td>52.826999</td>\n",
       "    </tr>\n",
       "    <tr>\n",
       "      <th>1</th>\n",
       "      <td>Crime</td>\n",
       "      <td>7.994634</td>\n",
       "      <td>348982.121951</td>\n",
       "      <td>48.126639</td>\n",
       "    </tr>\n",
       "    <tr>\n",
       "      <th>2</th>\n",
       "      <td>Action</td>\n",
       "      <td>7.985507</td>\n",
       "      <td>470995.985507</td>\n",
       "      <td>139.995057</td>\n",
       "    </tr>\n",
       "    <tr>\n",
       "      <th>3</th>\n",
       "      <td>Biography</td>\n",
       "      <td>7.973832</td>\n",
       "      <td>300433.672897</td>\n",
       "      <td>59.232987</td>\n",
       "    </tr>\n",
       "    <tr>\n",
       "      <th>4</th>\n",
       "      <td>Adventure</td>\n",
       "      <td>7.987634</td>\n",
       "      <td>497682.172043</td>\n",
       "      <td>166.064863</td>\n",
       "    </tr>\n",
       "    <tr>\n",
       "      <th>5</th>\n",
       "      <td>Animation</td>\n",
       "      <td>7.948780</td>\n",
       "      <td>325486.902439</td>\n",
       "      <td>118.471874</td>\n",
       "    </tr>\n",
       "    <tr>\n",
       "      <th>6</th>\n",
       "      <td>Comedy</td>\n",
       "      <td>7.914097</td>\n",
       "      <td>278807.162996</td>\n",
       "      <td>67.410298</td>\n",
       "    </tr>\n",
       "    <tr>\n",
       "      <th>7</th>\n",
       "      <td>Horror</td>\n",
       "      <td>7.881250</td>\n",
       "      <td>291164.843750</td>\n",
       "      <td>38.548226</td>\n",
       "    </tr>\n",
       "    <tr>\n",
       "      <th>8</th>\n",
       "      <td>Mystery</td>\n",
       "      <td>8.000000</td>\n",
       "      <td>341309.970000</td>\n",
       "      <td>47.128410</td>\n",
       "    </tr>\n",
       "    <tr>\n",
       "      <th>9</th>\n",
       "      <td>Western</td>\n",
       "      <td>8.052941</td>\n",
       "      <td>301435.411765</td>\n",
       "      <td>71.350588</td>\n",
       "    </tr>\n",
       "    <tr>\n",
       "      <th>10</th>\n",
       "      <td>Film-Noir</td>\n",
       "      <td>7.977273</td>\n",
       "      <td>88131.545455</td>\n",
       "      <td>8.650526</td>\n",
       "    </tr>\n",
       "    <tr>\n",
       "      <th>11</th>\n",
       "      <td>Family</td>\n",
       "      <td>7.932692</td>\n",
       "      <td>276293.038462</td>\n",
       "      <td>94.887320</td>\n",
       "    </tr>\n",
       "    <tr>\n",
       "      <th>12</th>\n",
       "      <td>Thriller</td>\n",
       "      <td>7.927857</td>\n",
       "      <td>343596.378571</td>\n",
       "      <td>67.722317</td>\n",
       "    </tr>\n",
       "    <tr>\n",
       "      <th>13</th>\n",
       "      <td>Fantasy</td>\n",
       "      <td>7.927869</td>\n",
       "      <td>428341.655738</td>\n",
       "      <td>132.728447</td>\n",
       "    </tr>\n",
       "    <tr>\n",
       "      <th>14</th>\n",
       "      <td>nan</td>\n",
       "      <td>NaN</td>\n",
       "      <td>NaN</td>\n",
       "      <td>NaN</td>\n",
       "    </tr>\n",
       "    <tr>\n",
       "      <th>15</th>\n",
       "      <td>Romance</td>\n",
       "      <td>7.939844</td>\n",
       "      <td>217579.281250</td>\n",
       "      <td>42.110170</td>\n",
       "    </tr>\n",
       "    <tr>\n",
       "      <th>16</th>\n",
       "      <td>Sci-Fi</td>\n",
       "      <td>7.990909</td>\n",
       "      <td>651795.909091</td>\n",
       "      <td>139.453030</td>\n",
       "    </tr>\n",
       "    <tr>\n",
       "      <th>17</th>\n",
       "      <td>War</td>\n",
       "      <td>8.056863</td>\n",
       "      <td>244113.411765</td>\n",
       "      <td>49.911875</td>\n",
       "    </tr>\n",
       "    <tr>\n",
       "      <th>18</th>\n",
       "      <td>Music</td>\n",
       "      <td>7.909375</td>\n",
       "      <td>194679.812500</td>\n",
       "      <td>38.894479</td>\n",
       "    </tr>\n",
       "    <tr>\n",
       "      <th>19</th>\n",
       "      <td>Musical</td>\n",
       "      <td>7.943750</td>\n",
       "      <td>88081.250000</td>\n",
       "      <td>17.588667</td>\n",
       "    </tr>\n",
       "    <tr>\n",
       "      <th>20</th>\n",
       "      <td>Sport</td>\n",
       "      <td>7.980000</td>\n",
       "      <td>272396.066667</td>\n",
       "      <td>49.866667</td>\n",
       "    </tr>\n",
       "    <tr>\n",
       "      <th>21</th>\n",
       "      <td>History</td>\n",
       "      <td>7.941304</td>\n",
       "      <td>232566.760870</td>\n",
       "      <td>54.054789</td>\n",
       "    </tr>\n",
       "  </tbody>\n",
       "</table>\n",
       "</div>"
      ],
      "text/plain": [
       "        index      Rate          Votes       Gross\n",
       "0       Drama  7.979783  279366.446404   52.826999\n",
       "1       Crime  7.994634  348982.121951   48.126639\n",
       "2      Action  7.985507  470995.985507  139.995057\n",
       "3   Biography  7.973832  300433.672897   59.232987\n",
       "4   Adventure  7.987634  497682.172043  166.064863\n",
       "5   Animation  7.948780  325486.902439  118.471874\n",
       "6      Comedy  7.914097  278807.162996   67.410298\n",
       "7      Horror  7.881250  291164.843750   38.548226\n",
       "8     Mystery  8.000000  341309.970000   47.128410\n",
       "9     Western  8.052941  301435.411765   71.350588\n",
       "10  Film-Noir  7.977273   88131.545455    8.650526\n",
       "11     Family  7.932692  276293.038462   94.887320\n",
       "12   Thriller  7.927857  343596.378571   67.722317\n",
       "13    Fantasy  7.927869  428341.655738  132.728447\n",
       "14        nan       NaN            NaN         NaN\n",
       "15    Romance  7.939844  217579.281250   42.110170\n",
       "16     Sci-Fi  7.990909  651795.909091  139.453030\n",
       "17        War  8.056863  244113.411765   49.911875\n",
       "18      Music  7.909375  194679.812500   38.894479\n",
       "19    Musical  7.943750   88081.250000   17.588667\n",
       "20      Sport  7.980000  272396.066667   49.866667\n",
       "21    History  7.941304  232566.760870   54.054789"
      ]
     },
     "execution_count": 68,
     "metadata": {},
     "output_type": "execute_result"
    }
   ],
   "source": [
    "test_df = Rate_df2.merge(Vote_df2, left_on='index', right_on='index').merge(Gross_df2, left_on='index', right_on='index')\n",
    "test_df"
   ]
  },
  {
   "cell_type": "markdown",
   "metadata": {},
   "source": [
    "### Among the top 1000 movies, what percenetage of movies are horror movies? What's the Gross revenue of horror movies compare to other genres?"
   ]
  },
  {
   "cell_type": "code",
   "execution_count": 69,
   "metadata": {},
   "outputs": [
    {
     "name": "stdout",
     "output_type": "stream",
     "text": [
      "The percentage of Horror movies in top 1000 movies = 3.2 %\n"
     ]
    }
   ],
   "source": [
    "# Plot barplot for genre percentage in top 1000 movies\n",
    "per_horror = get_genre_df1('Horror').shape[0]/1000*100\n",
    "print('The percentage of Horror movies in top 1000 movies = {} %'.format(per_horror))"
   ]
  },
  {
   "cell_type": "code",
   "execution_count": 70,
   "metadata": {},
   "outputs": [
    {
     "data": {
      "image/png": "[encoded data removed]",
      "text/plain": [
       "<Figure size 1600x600 with 1 Axes>"
      ]
     },
     "metadata": {},
     "output_type": "display_data"
    }
   ],
   "source": [
    "plt.figure(figsize=(16,6))\n",
    "ax = sns.barplot(test_df.sort_values('Gross',ascending=False),x='Gross',y='index', orient='h', color='Green')\n",
    "ax.set_title('The Gross revenue of Movie Genre in Top 1000 Movies')\n",
    "ax.set_xlabel('Gross revenue (M)');"
   ]
  },
  {
   "cell_type": "markdown",
   "metadata": {},
   "source": [
    "- Among the top 1000 movies, there are **32 Horror movies (3.2%)**\n",
    "- The sum revenue of top 1000 movies = **1,505 Millions** and Horror movies took over **2.56% (38.55 Millions)** of the total gross revenue. \n"
   ]
  },
  {
   "cell_type": "code",
   "execution_count": null,
   "metadata": {},
   "outputs": [],
   "source": []
  },
  {
   "cell_type": "markdown",
   "metadata": {},
   "source": [
    "### Which Director contributes the most to the gross revenue in top 1000 movies? Does he/she also has the most number of horror movies selected in top 1000 movies?"
   ]
  },
  {
   "cell_type": "code",
   "execution_count": 71,
   "metadata": {},
   "outputs": [],
   "source": [
    "def get_genre_df(x):\n",
    "    df_genry = df[(df['genre_1']==x)|(df['genre_2']==x)|(df['genre_3']==x)]\n",
    "    return df_genry"
   ]
  },
  {
   "cell_type": "code",
   "execution_count": 72,
   "metadata": {
    "scrolled": true
   },
   "outputs": [
    {
     "data": {
      "text/html": [
       "<div>\n",
       "<style scoped>\n",
       "    .dataframe tbody tr th:only-of-type {\n",
       "        vertical-align: middle;\n",
       "    }\n",
       "\n",
       "    .dataframe tbody tr th {\n",
       "        vertical-align: top;\n",
       "    }\n",
       "\n",
       "    .dataframe thead th {\n",
       "        text-align: right;\n",
       "    }\n",
       "</style>\n",
       "<table border=\"1\" class=\"dataframe\">\n",
       "  <thead>\n",
       "    <tr style=\"text-align: right;\">\n",
       "      <th></th>\n",
       "      <th>name</th>\n",
       "      <th>year</th>\n",
       "      <th>rating</th>\n",
       "      <th>metascore</th>\n",
       "      <th>votes</th>\n",
       "      <th>gross(millions)</th>\n",
       "      <th>genre_1</th>\n",
       "      <th>genre_2</th>\n",
       "      <th>genre_3</th>\n",
       "      <th>Director</th>\n",
       "    </tr>\n",
       "  </thead>\n",
       "  <tbody>\n",
       "    <tr>\n",
       "      <th>0</th>\n",
       "      <td>Alien</td>\n",
       "      <td>1979</td>\n",
       "      <td>8.5</td>\n",
       "      <td>89.0</td>\n",
       "      <td>923281</td>\n",
       "      <td>78.90</td>\n",
       "      <td>Horror</td>\n",
       "      <td>Sci-Fi</td>\n",
       "      <td>NaN</td>\n",
       "      <td>Ridley Scott</td>\n",
       "    </tr>\n",
       "    <tr>\n",
       "      <th>1</th>\n",
       "      <td>Psycho</td>\n",
       "      <td>1960</td>\n",
       "      <td>8.5</td>\n",
       "      <td>97.0</td>\n",
       "      <td>701679</td>\n",
       "      <td>32.00</td>\n",
       "      <td>Horror</td>\n",
       "      <td>Mystery</td>\n",
       "      <td>Thriller</td>\n",
       "      <td>Alfred Hitchcock</td>\n",
       "    </tr>\n",
       "    <tr>\n",
       "      <th>3</th>\n",
       "      <td>The Shining</td>\n",
       "      <td>1980</td>\n",
       "      <td>8.4</td>\n",
       "      <td>66.0</td>\n",
       "      <td>1075121</td>\n",
       "      <td>44.02</td>\n",
       "      <td>Drama</td>\n",
       "      <td>Horror</td>\n",
       "      <td>NaN</td>\n",
       "      <td>Stanley Kubrick</td>\n",
       "    </tr>\n",
       "    <tr>\n",
       "      <th>4</th>\n",
       "      <td>The Thing</td>\n",
       "      <td>1982</td>\n",
       "      <td>8.2</td>\n",
       "      <td>57.0</td>\n",
       "      <td>450236</td>\n",
       "      <td>13.78</td>\n",
       "      <td>Horror</td>\n",
       "      <td>Mystery</td>\n",
       "      <td>Sci-Fi</td>\n",
       "      <td>John Carpenter</td>\n",
       "    </tr>\n",
       "    <tr>\n",
       "      <th>5</th>\n",
       "      <td>The Exorcist</td>\n",
       "      <td>1973</td>\n",
       "      <td>8.1</td>\n",
       "      <td>82.0</td>\n",
       "      <td>439076</td>\n",
       "      <td>232.91</td>\n",
       "      <td>Horror</td>\n",
       "      <td>NaN</td>\n",
       "      <td>NaN</td>\n",
       "      <td>William Friedkin</td>\n",
       "    </tr>\n",
       "  </tbody>\n",
       "</table>\n",
       "</div>"
      ],
      "text/plain": [
       "           name  year  rating  metascore    votes  gross(millions) genre_1  \\\n",
       "0         Alien  1979     8.5       89.0   923281            78.90  Horror   \n",
       "1        Psycho  1960     8.5       97.0   701679            32.00  Horror   \n",
       "3   The Shining  1980     8.4       66.0  1075121            44.02   Drama   \n",
       "4     The Thing  1982     8.2       57.0   450236            13.78  Horror   \n",
       "5  The Exorcist  1973     8.1       82.0   439076           232.91  Horror   \n",
       "\n",
       "   genre_2   genre_3          Director  \n",
       "0   Sci-Fi       NaN      Ridley Scott  \n",
       "1  Mystery  Thriller  Alfred Hitchcock  \n",
       "3   Horror       NaN   Stanley Kubrick  \n",
       "4  Mystery    Sci-Fi    John Carpenter  \n",
       "5      NaN       NaN  William Friedkin  "
      ]
     },
     "execution_count": 72,
     "metadata": {},
     "output_type": "execute_result"
    }
   ],
   "source": [
    "director = get_genre_df('Horror')\n",
    "director.head()"
   ]
  },
  {
   "cell_type": "code",
   "execution_count": 73,
   "metadata": {},
   "outputs": [
    {
     "data": {
      "text/plain": [
       "Director\n",
       "William Friedkin         232.910\n",
       "James Whale              105.670\n",
       "Alejandro Amenábar        96.520\n",
       "Robert Wiene              90.140\n",
       "Ridley Scott              78.900\n",
       "John Carpenter            60.780\n",
       "John McTiernan            59.740\n",
       "James Wan                 56.000\n",
       "Stanley Kubrick           44.020\n",
       "Alfred Hitchcock          43.400\n",
       "David Cronenberg          40.460\n",
       "Don Siegel                22.410\n",
       "Roman Polanski            22.325\n",
       "Mary Harron               15.070\n",
       "Edgar Wright              13.540\n",
       "Merian C. Cooper          10.000\n",
       "Sam Raimi                  5.920\n",
       "George A. Romero           5.190\n",
       "Robert Aldrich             4.050\n",
       "Jemaine Clement            3.330\n",
       "Jack Clayton               2.620\n",
       "Rahi Anil Barve            2.120\n",
       "Tomas Alfredson            2.120\n",
       "Henri-Georges Clouzot      1.090\n",
       "Tod Browning               0.630\n",
       "F.W. Murnau                0.000\n",
       "Name: gross(millions), dtype: float64"
      ]
     },
     "execution_count": 73,
     "metadata": {},
     "output_type": "execute_result"
    }
   ],
   "source": [
    "director_gross = get_genre_df('Horror').groupby('Director')['gross(millions)'].sum().sort_values(ascending=False)\n",
    "director_gross"
   ]
  },
  {
   "cell_type": "markdown",
   "metadata": {},
   "source": [
    "- **William Friedkin** is the director contributed the most to gross revenue of Horror movie genre in top 1000 movies."
   ]
  },
  {
   "cell_type": "code",
   "execution_count": 74,
   "metadata": {},
   "outputs": [
    {
     "data": {
      "text/html": [
       "<div>\n",
       "<style scoped>\n",
       "    .dataframe tbody tr th:only-of-type {\n",
       "        vertical-align: middle;\n",
       "    }\n",
       "\n",
       "    .dataframe tbody tr th {\n",
       "        vertical-align: top;\n",
       "    }\n",
       "\n",
       "    .dataframe thead th {\n",
       "        text-align: right;\n",
       "    }\n",
       "</style>\n",
       "<table border=\"1\" class=\"dataframe\">\n",
       "  <thead>\n",
       "    <tr style=\"text-align: right;\">\n",
       "      <th></th>\n",
       "      <th>name</th>\n",
       "      <th>year</th>\n",
       "      <th>rating</th>\n",
       "      <th>metascore</th>\n",
       "      <th>votes</th>\n",
       "      <th>gross(millions)</th>\n",
       "      <th>genre_1</th>\n",
       "      <th>genre_2</th>\n",
       "      <th>genre_3</th>\n",
       "      <th>Director</th>\n",
       "    </tr>\n",
       "  </thead>\n",
       "  <tbody>\n",
       "    <tr>\n",
       "      <th>5</th>\n",
       "      <td>The Exorcist</td>\n",
       "      <td>1973</td>\n",
       "      <td>8.1</td>\n",
       "      <td>82.0</td>\n",
       "      <td>439076</td>\n",
       "      <td>232.91</td>\n",
       "      <td>Horror</td>\n",
       "      <td>NaN</td>\n",
       "      <td>NaN</td>\n",
       "      <td>William Friedkin</td>\n",
       "    </tr>\n",
       "  </tbody>\n",
       "</table>\n",
       "</div>"
      ],
      "text/plain": [
       "           name  year  rating  metascore   votes  gross(millions) genre_1  \\\n",
       "5  The Exorcist  1973     8.1       82.0  439076           232.91  Horror   \n",
       "\n",
       "  genre_2 genre_3          Director  \n",
       "5     NaN     NaN  William Friedkin  "
      ]
     },
     "execution_count": 74,
     "metadata": {},
     "output_type": "execute_result"
    }
   ],
   "source": [
    "director[director.Director=='William Friedkin']"
   ]
  },
  {
   "cell_type": "code",
   "execution_count": 75,
   "metadata": {},
   "outputs": [
    {
     "data": {
      "text/plain": [
       "Director\n",
       "Alejandro Amenábar       1\n",
       "Alfred Hitchcock         2\n",
       "David Cronenberg         1\n",
       "Don Siegel               1\n",
       "Edgar Wright             1\n",
       "F.W. Murnau              1\n",
       "George A. Romero         2\n",
       "Henri-Georges Clouzot    1\n",
       "Jack Clayton             1\n",
       "James Wan                1\n",
       "James Whale              3\n",
       "Jemaine Clement          1\n",
       "John Carpenter           2\n",
       "John McTiernan           1\n",
       "Mary Harron              1\n",
       "Merian C. Cooper         1\n",
       "Rahi Anil Barve          1\n",
       "Ridley Scott             1\n",
       "Robert Aldrich           1\n",
       "Robert Wiene             1\n",
       "Roman Polanski           1\n",
       "Sam Raimi                1\n",
       "Stanley Kubrick          1\n",
       "Tod Browning             1\n",
       "Tomas Alfredson          1\n",
       "William Friedkin         1\n",
       "Name: year, dtype: int64"
      ]
     },
     "execution_count": 75,
     "metadata": {},
     "output_type": "execute_result"
    }
   ],
   "source": [
    "director.groupby('Director')['year'].count()"
   ]
  },
  {
   "cell_type": "code",
   "execution_count": 76,
   "metadata": {
    "scrolled": true
   },
   "outputs": [
    {
     "data": {
      "text/html": [
       "<div>\n",
       "<style scoped>\n",
       "    .dataframe tbody tr th:only-of-type {\n",
       "        vertical-align: middle;\n",
       "    }\n",
       "\n",
       "    .dataframe tbody tr th {\n",
       "        vertical-align: top;\n",
       "    }\n",
       "\n",
       "    .dataframe thead th {\n",
       "        text-align: right;\n",
       "    }\n",
       "</style>\n",
       "<table border=\"1\" class=\"dataframe\">\n",
       "  <thead>\n",
       "    <tr style=\"text-align: right;\">\n",
       "      <th></th>\n",
       "      <th>name</th>\n",
       "      <th>year</th>\n",
       "      <th>rating</th>\n",
       "      <th>metascore</th>\n",
       "      <th>votes</th>\n",
       "      <th>gross(millions)</th>\n",
       "      <th>genre_1</th>\n",
       "      <th>genre_2</th>\n",
       "      <th>genre_3</th>\n",
       "      <th>Director</th>\n",
       "    </tr>\n",
       "  </thead>\n",
       "  <tbody>\n",
       "    <tr>\n",
       "      <th>18</th>\n",
       "      <td>The Bride of Frankenstein</td>\n",
       "      <td>1935</td>\n",
       "      <td>7.8</td>\n",
       "      <td>95.0</td>\n",
       "      <td>51581</td>\n",
       "      <td>4.36</td>\n",
       "      <td>Drama</td>\n",
       "      <td>Horror</td>\n",
       "      <td>Sci-Fi</td>\n",
       "      <td>James Whale</td>\n",
       "    </tr>\n",
       "    <tr>\n",
       "      <th>34</th>\n",
       "      <td>Frankenstein</td>\n",
       "      <td>1931</td>\n",
       "      <td>7.8</td>\n",
       "      <td>91.0</td>\n",
       "      <td>77427</td>\n",
       "      <td>22.41</td>\n",
       "      <td>Drama</td>\n",
       "      <td>Horror</td>\n",
       "      <td>Sci-Fi</td>\n",
       "      <td>James Whale</td>\n",
       "    </tr>\n",
       "    <tr>\n",
       "      <th>39</th>\n",
       "      <td>The Invisible Man</td>\n",
       "      <td>1933</td>\n",
       "      <td>7.6</td>\n",
       "      <td>87.0</td>\n",
       "      <td>38624</td>\n",
       "      <td>78.90</td>\n",
       "      <td>Horror</td>\n",
       "      <td>Sci-Fi</td>\n",
       "      <td>NaN</td>\n",
       "      <td>James Whale</td>\n",
       "    </tr>\n",
       "  </tbody>\n",
       "</table>\n",
       "</div>"
      ],
      "text/plain": [
       "                         name  year  rating  metascore  votes  \\\n",
       "18  The Bride of Frankenstein  1935     7.8       95.0  51581   \n",
       "34               Frankenstein  1931     7.8       91.0  77427   \n",
       "39          The Invisible Man  1933     7.6       87.0  38624   \n",
       "\n",
       "    gross(millions) genre_1 genre_2 genre_3     Director  \n",
       "18             4.36   Drama  Horror  Sci-Fi  James Whale  \n",
       "34            22.41   Drama  Horror  Sci-Fi  James Whale  \n",
       "39            78.90  Horror  Sci-Fi     NaN  James Whale  "
      ]
     },
     "execution_count": 76,
     "metadata": {},
     "output_type": "execute_result"
    }
   ],
   "source": [
    "director[director.Director=='James Whale']"
   ]
  },
  {
   "cell_type": "markdown",
   "metadata": {},
   "source": [
    "- **James Whale** is the director contributed the most number of Horror movies in top 1000 movies."
   ]
  },
  {
   "cell_type": "markdown",
   "metadata": {},
   "source": [
    "### Is there any trend in Horror movie revenue over year in the top 1000 movies?"
   ]
  },
  {
   "cell_type": "code",
   "execution_count": 77,
   "metadata": {},
   "outputs": [
    {
     "data": {
      "image/png": "[encoded data removed]",
      "text/plain": [
       "<Figure size 1600x600 with 1 Axes>"
      ]
     },
     "metadata": {},
     "output_type": "display_data"
    }
   ],
   "source": [
    "plt.figure(figsize=(16,6))\n",
    "ax = sns.barplot(director.groupby('year').sum().reset_index(), x='year',y='gross(millions)',orient='v', color='Green')\n",
    "ax.set_title('The Gross revenue of Horror Movie in Top 1000 Movies')\n",
    "ax.set_xlabel('Year');\n",
    "ax.set_ylabel('Gross revenue (M)');"
   ]
  },
  {
   "cell_type": "markdown",
   "metadata": {},
   "source": [
    "- The gross revenue of Horror movies in top 1000 movies over year are **mostly less than 100 millions**. The only exception is at **1973**, where William Friedkin's movie **The Exorcist** make a contribution to 232 millions in single movie."
   ]
  },
  {
   "cell_type": "markdown",
   "metadata": {
    "id": "0ezWXXZVj-TP"
   },
   "source": [
    "### **5.2:** Reflection\n",
    "In 2-4 sentences, if you had more time to complete the project, what actions would you take? For example, which data quality and structural issues would you look into further, and what research questions would you further explore?"
   ]
  },
  {
   "cell_type": "markdown",
   "metadata": {
    "id": "XB3RBDG5kFe1"
   },
   "source": [
    "If have more time, I'll:\n",
    "- 1. collect more data regards to revenue and directors.\n",
    "- 2. look into whether combination of genres will correlate to the gross revenues."
   ]
  },
  {
   "cell_type": "code",
   "execution_count": null,
   "metadata": {},
   "outputs": [],
   "source": []
  }
 ],
 "metadata": {
  "colab": {
   "provenance": []
  },
  "kernelspec": {
   "display_name": "Python 3 (ipykernel)",
   "language": "python",
   "name": "python3"
  },
  "language_info": {
   "codemirror_mode": {
    "name": "ipython",
    "version": 3
   },
   "file_extension": ".py",
   "mimetype": "text/x-python",
   "name": "python",
   "nbconvert_exporter": "python",
   "pygments_lexer": "ipython3",
   "version": "3.9.13"
  }
 },
 "nbformat": 4,
 "nbformat_minor": 1
}
